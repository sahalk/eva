{
  "nbformat": 4,
  "nbformat_minor": 0,
  "metadata": {
    "accelerator": "GPU",
    "colab": {
      "name": "EVA5_Session11.ipynb",
      "provenance": [],
      "collapsed_sections": [],
      "toc_visible": true
    },
    "kernelspec": {
      "display_name": "Python 3",
      "language": "python",
      "name": "python3"
    },
    "language_info": {
      "codemirror_mode": {
        "name": "ipython",
        "version": 3
      },
      "file_extension": ".py",
      "mimetype": "text/x-python",
      "name": "python",
      "nbconvert_exporter": "python",
      "pygments_lexer": "ipython3",
      "version": "3.7.3"
    },
    "widgets": {
      "application/vnd.jupyter.widget-state+json": {
        "73ec0bed1370496fa5b6ab9b3105f147": {
          "model_module": "@jupyter-widgets/controls",
          "model_name": "HBoxModel",
          "state": {
            "_view_name": "HBoxView",
            "_dom_classes": [],
            "_model_name": "HBoxModel",
            "_view_module": "@jupyter-widgets/controls",
            "_model_module_version": "1.5.0",
            "_view_count": null,
            "_view_module_version": "1.5.0",
            "box_style": "",
            "layout": "IPY_MODEL_04b5ab67861d4d73a89eb067f822b866",
            "_model_module": "@jupyter-widgets/controls",
            "children": [
              "IPY_MODEL_7f5af29573ed439481ad2f7e9cc929a9",
              "IPY_MODEL_909628536677418ca2dc9d0e72f8a59d"
            ]
          }
        },
        "04b5ab67861d4d73a89eb067f822b866": {
          "model_module": "@jupyter-widgets/base",
          "model_name": "LayoutModel",
          "state": {
            "_view_name": "LayoutView",
            "grid_template_rows": null,
            "right": null,
            "justify_content": null,
            "_view_module": "@jupyter-widgets/base",
            "overflow": null,
            "_model_module_version": "1.2.0",
            "_view_count": null,
            "flex_flow": null,
            "width": null,
            "min_width": null,
            "border": null,
            "align_items": null,
            "bottom": null,
            "_model_module": "@jupyter-widgets/base",
            "top": null,
            "grid_column": null,
            "overflow_y": null,
            "overflow_x": null,
            "grid_auto_flow": null,
            "grid_area": null,
            "grid_template_columns": null,
            "flex": null,
            "_model_name": "LayoutModel",
            "justify_items": null,
            "grid_row": null,
            "max_height": null,
            "align_content": null,
            "visibility": null,
            "align_self": null,
            "height": null,
            "min_height": null,
            "padding": null,
            "grid_auto_rows": null,
            "grid_gap": null,
            "max_width": null,
            "order": null,
            "_view_module_version": "1.2.0",
            "grid_template_areas": null,
            "object_position": null,
            "object_fit": null,
            "grid_auto_columns": null,
            "margin": null,
            "display": null,
            "left": null
          }
        },
        "7f5af29573ed439481ad2f7e9cc929a9": {
          "model_module": "@jupyter-widgets/controls",
          "model_name": "FloatProgressModel",
          "state": {
            "_view_name": "ProgressView",
            "style": "IPY_MODEL_8bae123418894009b6b71ec27748de25",
            "_dom_classes": [],
            "description": "",
            "_model_name": "FloatProgressModel",
            "bar_style": "info",
            "max": 1,
            "_view_module": "@jupyter-widgets/controls",
            "_model_module_version": "1.5.0",
            "value": 1,
            "_view_count": null,
            "_view_module_version": "1.5.0",
            "orientation": "horizontal",
            "min": 0,
            "description_tooltip": null,
            "_model_module": "@jupyter-widgets/controls",
            "layout": "IPY_MODEL_e7e00e005a7544389a2f38e856af3b2a"
          }
        },
        "909628536677418ca2dc9d0e72f8a59d": {
          "model_module": "@jupyter-widgets/controls",
          "model_name": "HTMLModel",
          "state": {
            "_view_name": "HTMLView",
            "style": "IPY_MODEL_4282557a77ea48ca916bc9787b5f23dc",
            "_dom_classes": [],
            "description": "",
            "_model_name": "HTMLModel",
            "placeholder": "​",
            "_view_module": "@jupyter-widgets/controls",
            "_model_module_version": "1.5.0",
            "value": " 170500096/? [00:20&lt;00:00, 32573880.34it/s]",
            "_view_count": null,
            "_view_module_version": "1.5.0",
            "description_tooltip": null,
            "_model_module": "@jupyter-widgets/controls",
            "layout": "IPY_MODEL_98f350df65c845d79a89ff969514364f"
          }
        },
        "8bae123418894009b6b71ec27748de25": {
          "model_module": "@jupyter-widgets/controls",
          "model_name": "ProgressStyleModel",
          "state": {
            "_view_name": "StyleView",
            "_model_name": "ProgressStyleModel",
            "description_width": "initial",
            "_view_module": "@jupyter-widgets/base",
            "_model_module_version": "1.5.0",
            "_view_count": null,
            "_view_module_version": "1.2.0",
            "bar_color": null,
            "_model_module": "@jupyter-widgets/controls"
          }
        },
        "e7e00e005a7544389a2f38e856af3b2a": {
          "model_module": "@jupyter-widgets/base",
          "model_name": "LayoutModel",
          "state": {
            "_view_name": "LayoutView",
            "grid_template_rows": null,
            "right": null,
            "justify_content": null,
            "_view_module": "@jupyter-widgets/base",
            "overflow": null,
            "_model_module_version": "1.2.0",
            "_view_count": null,
            "flex_flow": null,
            "width": null,
            "min_width": null,
            "border": null,
            "align_items": null,
            "bottom": null,
            "_model_module": "@jupyter-widgets/base",
            "top": null,
            "grid_column": null,
            "overflow_y": null,
            "overflow_x": null,
            "grid_auto_flow": null,
            "grid_area": null,
            "grid_template_columns": null,
            "flex": null,
            "_model_name": "LayoutModel",
            "justify_items": null,
            "grid_row": null,
            "max_height": null,
            "align_content": null,
            "visibility": null,
            "align_self": null,
            "height": null,
            "min_height": null,
            "padding": null,
            "grid_auto_rows": null,
            "grid_gap": null,
            "max_width": null,
            "order": null,
            "_view_module_version": "1.2.0",
            "grid_template_areas": null,
            "object_position": null,
            "object_fit": null,
            "grid_auto_columns": null,
            "margin": null,
            "display": null,
            "left": null
          }
        },
        "4282557a77ea48ca916bc9787b5f23dc": {
          "model_module": "@jupyter-widgets/controls",
          "model_name": "DescriptionStyleModel",
          "state": {
            "_view_name": "StyleView",
            "_model_name": "DescriptionStyleModel",
            "description_width": "",
            "_view_module": "@jupyter-widgets/base",
            "_model_module_version": "1.5.0",
            "_view_count": null,
            "_view_module_version": "1.2.0",
            "_model_module": "@jupyter-widgets/controls"
          }
        },
        "98f350df65c845d79a89ff969514364f": {
          "model_module": "@jupyter-widgets/base",
          "model_name": "LayoutModel",
          "state": {
            "_view_name": "LayoutView",
            "grid_template_rows": null,
            "right": null,
            "justify_content": null,
            "_view_module": "@jupyter-widgets/base",
            "overflow": null,
            "_model_module_version": "1.2.0",
            "_view_count": null,
            "flex_flow": null,
            "width": null,
            "min_width": null,
            "border": null,
            "align_items": null,
            "bottom": null,
            "_model_module": "@jupyter-widgets/base",
            "top": null,
            "grid_column": null,
            "overflow_y": null,
            "overflow_x": null,
            "grid_auto_flow": null,
            "grid_area": null,
            "grid_template_columns": null,
            "flex": null,
            "_model_name": "LayoutModel",
            "justify_items": null,
            "grid_row": null,
            "max_height": null,
            "align_content": null,
            "visibility": null,
            "align_self": null,
            "height": null,
            "min_height": null,
            "padding": null,
            "grid_auto_rows": null,
            "grid_gap": null,
            "max_width": null,
            "order": null,
            "_view_module_version": "1.2.0",
            "grid_template_areas": null,
            "object_position": null,
            "object_fit": null,
            "grid_auto_columns": null,
            "margin": null,
            "display": null,
            "left": null
          }
        }
      }
    }
  },
  "cells": [
    {
      "cell_type": "markdown",
      "metadata": {
        "id": "view-in-github"
      },
      "source": [
        "<a href=\"https://colab.research.google.com/github/siva-sankar-a/eva/blob/master/S11/EVA4_Session_11_super_convergence_with_API.ipynb\" target=\"_parent\"><img src=\"https://colab.research.google.com/assets/colab-badge.svg\" alt=\"Open In Colab\"/></a>"
      ]
    },
    {
      "cell_type": "code",
      "metadata": {
        "id": "wxbB0ntY2Sj-",
        "outputId": "ec423d4c-5a51-4245-831c-7ee740631d69",
        "colab": {
          "base_uri": "https://localhost:8080/",
          "height": 136
        }
      },
      "source": [
        "!git clone \"https://github.com/sahalk/eva.git\""
      ],
      "execution_count": 1,
      "outputs": [
        {
          "output_type": "stream",
          "text": [
            "Cloning into 'eva'...\n",
            "remote: Enumerating objects: 281, done.\u001b[K\n",
            "remote: Counting objects: 100% (281/281), done.\u001b[K\n",
            "remote: Compressing objects: 100% (216/216), done.\u001b[K\n",
            "remote: Total 281 (delta 142), reused 193 (delta 60), pack-reused 0\u001b[K\n",
            "Receiving objects: 100% (281/281), 2.16 MiB | 5.63 MiB/s, done.\n",
            "Resolving deltas: 100% (142/142), done.\n"
          ],
          "name": "stdout"
        }
      ]
    },
    {
      "cell_type": "code",
      "metadata": {
        "id": "WW5LZSZN3ZUR",
        "outputId": "0927c51e-74bf-4564-e9d4-46616f71e47c",
        "colab": {
          "base_uri": "https://localhost:8080/",
          "height": 275
        }
      },
      "source": [
        "!pip install torchviz"
      ],
      "execution_count": 2,
      "outputs": [
        {
          "output_type": "stream",
          "text": [
            "Collecting torchviz\n",
            "\u001b[?25l  Downloading https://files.pythonhosted.org/packages/8f/8e/a9630c7786b846d08b47714dd363a051f5e37b4ea0e534460d8cdfc1644b/torchviz-0.0.1.tar.gz (41kB)\n",
            "\r\u001b[K     |████████                        | 10kB 25.0MB/s eta 0:00:01\r\u001b[K     |████████████████                | 20kB 6.8MB/s eta 0:00:01\r\u001b[K     |███████████████████████▉        | 30kB 7.9MB/s eta 0:00:01\r\u001b[K     |███████████████████████████████▉| 40kB 8.8MB/s eta 0:00:01\r\u001b[K     |████████████████████████████████| 51kB 5.0MB/s \n",
            "\u001b[?25hRequirement already satisfied: torch in /usr/local/lib/python3.6/dist-packages (from torchviz) (1.6.0+cu101)\n",
            "Requirement already satisfied: graphviz in /usr/local/lib/python3.6/dist-packages (from torchviz) (0.10.1)\n",
            "Requirement already satisfied: numpy in /usr/local/lib/python3.6/dist-packages (from torch->torchviz) (1.18.5)\n",
            "Requirement already satisfied: future in /usr/local/lib/python3.6/dist-packages (from torch->torchviz) (0.16.0)\n",
            "Building wheels for collected packages: torchviz\n",
            "  Building wheel for torchviz (setup.py) ... \u001b[?25l\u001b[?25hdone\n",
            "  Created wheel for torchviz: filename=torchviz-0.0.1-cp36-none-any.whl size=3520 sha256=e28946e425961eac92ae0c331da388f2980114c29ebc0361ff3a4d9dea0bf07d\n",
            "  Stored in directory: /root/.cache/pip/wheels/2a/c2/c5/b8b4d0f7992c735f6db5bfa3c5f354cf36502037ca2b585667\n",
            "Successfully built torchviz\n",
            "Installing collected packages: torchviz\n",
            "Successfully installed torchviz-0.0.1\n"
          ],
          "name": "stdout"
        }
      ]
    },
    {
      "cell_type": "code",
      "metadata": {
        "id": "7pOL5Fx3uN_f"
      },
      "source": [
        "import torch\n",
        "import torchvision\n",
        "import numpy as np\n",
        "\n",
        "from torch.nn import functional as F\n",
        "import matplotlib.pyplot as plt"
      ],
      "execution_count": 3,
      "outputs": []
    },
    {
      "cell_type": "code",
      "metadata": {
        "id": "0C0jJND1GP-9",
        "outputId": "6b2604d6-a20e-44ff-e20a-72a375177247",
        "colab": {
          "base_uri": "https://localhost:8080/",
          "height": 282
        }
      },
      "source": [
        "lr_min = 0.1\n",
        "lr_max = 1.0\n",
        "\n",
        "n_epochs = 20\n",
        "batch_size = 128\n",
        "n_samples = 50000\n",
        "\n",
        "step_size = 1300\n",
        "\n",
        "max_iterations = np.floor((n_samples / batch_size) * n_epochs)\n",
        "\n",
        "iterations = np.arange(0, max_iterations)\n",
        "cycle = np.floor(1 + (iterations / (2 * step_size)))\n",
        "x = np.abs((iterations / step_size) - (2 * cycle) + 1)\n",
        "lr_t = lr_min + (lr_max - lr_min) * (1 - x)\n",
        "\n",
        "plt.plot(iterations, lr_t)"
      ],
      "execution_count": 4,
      "outputs": [
        {
          "output_type": "execute_result",
          "data": {
            "text/plain": [
              "[<matplotlib.lines.Line2D at 0x7f61dba555f8>]"
            ]
          },
          "metadata": {
            "tags": []
          },
          "execution_count": 4
        },
        {
          "output_type": "display_data",
          "data": {
            "image/png": "[encoded data removed]",
            "text/plain": [
              "<Figure size 432x288 with 1 Axes>"
            ]
          },
          "metadata": {
            "tags": [],
            "needs_background": "light"
          }
        }
      ]
    },
    {
      "cell_type": "code",
      "metadata": {
        "id": "64MWtDnufCdk",
        "outputId": "7f1eff78-97f9-4e34-98df-2cb2439d88dd",
        "colab": {
          "base_uri": "https://localhost:8080/",
          "height": 71
        }
      },
      "source": [
        "from eva.Session11.api import Experiment\n",
        "from eva.Session11.data_manager.data_manager_albumentations import  DataManager\n",
        "from eva.Session11.utils import textual_summary_cifar10, graphical_summary_cifar10\n",
        "from eva.Session11.settings import cifar10_classes\n",
        "from eva.Session11.models.model_s11 import Net\n",
        "from eva.Session11.grad_cam.grad_cam import GradCam"
      ],
      "execution_count": 5,
      "outputs": [
        {
          "output_type": "stream",
          "text": [
            "WARNING:eva.Session11.lr_range_finder.lr_finder:To enable mixed precision training, please install `apex`. Or you can re-install this package by the following command:\n",
            "  pip install torch-lr-finder -v --global-option=\"amp\"\n"
          ],
          "name": "stderr"
        }
      ]
    },
    {
      "cell_type": "markdown",
      "metadata": {
        "id": "R3PLL8A6_pfy"
      },
      "source": [
        "### Create an instance of experiment class"
      ]
    },
    {
      "cell_type": "code",
      "metadata": {
        "id": "aDXrkRBweFFT",
        "outputId": "36939a1b-6cb9-4bf3-b012-ea512621d989",
        "colab": {
          "base_uri": "https://localhost:8080/",
          "height": 117,
          "referenced_widgets": [
            "73ec0bed1370496fa5b6ab9b3105f147",
            "04b5ab67861d4d73a89eb067f822b866",
            "7f5af29573ed439481ad2f7e9cc929a9",
            "909628536677418ca2dc9d0e72f8a59d",
            "8bae123418894009b6b71ec27748de25",
            "e7e00e005a7544389a2f38e856af3b2a",
            "4282557a77ea48ca916bc9787b5f23dc",
            "98f350df65c845d79a89ff969514364f"
          ]
        }
      },
      "source": [
        "experiment = Experiment(name='default', dataset_name='cifar10')"
      ],
      "execution_count": 6,
      "outputs": [
        {
          "output_type": "stream",
          "text": [
            "CUDA status: True\n",
            "Downloading https://www.cs.toronto.edu/~kriz/cifar-10-python.tar.gz to ./data/cifar-10-python.tar.gz\n"
          ],
          "name": "stdout"
        },
        {
          "output_type": "display_data",
          "data": {
            "application/vnd.jupyter.widget-view+json": {
              "model_id": "73ec0bed1370496fa5b6ab9b3105f147",
              "version_minor": 0,
              "version_major": 2
            },
            "text/plain": [
              "HBox(children=(FloatProgress(value=1.0, bar_style='info', max=1.0), HTML(value='')))"
            ]
          },
          "metadata": {
            "tags": []
          }
        },
        {
          "output_type": "stream",
          "text": [
            "Extracting ./data/cifar-10-python.tar.gz to ./data\n",
            "Files already downloaded and verified\n"
          ],
          "name": "stdout"
        }
      ]
    },
    {
      "cell_type": "code",
      "metadata": {
        "id": "sF2KXlUokye8",
        "outputId": "272563be-0721-4502-d8a2-748050d88ab5",
        "colab": {
          "base_uri": "https://localhost:8080/",
          "height": 731
        }
      },
      "source": [
        "textual_summary_cifar10(experiment.model)"
      ],
      "execution_count": 7,
      "outputs": [
        {
          "output_type": "stream",
          "text": [
            "----------------------------------------------------------------\n",
            "        Layer (type)               Output Shape         Param #\n",
            "================================================================\n",
            "            Conv2d-1           [-1, 64, 32, 32]           1,728\n",
            "       BatchNorm2d-2           [-1, 64, 32, 32]             128\n",
            "              ReLU-3           [-1, 64, 32, 32]               0\n",
            "            Conv2d-4          [-1, 128, 32, 32]          73,728\n",
            "         MaxPool2d-5          [-1, 128, 16, 16]               0\n",
            "       BatchNorm2d-6          [-1, 128, 16, 16]             256\n",
            "              ReLU-7          [-1, 128, 16, 16]               0\n",
            "            Conv2d-8          [-1, 128, 16, 16]         147,456\n",
            "       BatchNorm2d-9          [-1, 128, 16, 16]             256\n",
            "             ReLU-10          [-1, 128, 16, 16]               0\n",
            "           Conv2d-11          [-1, 128, 16, 16]         147,456\n",
            "      BatchNorm2d-12          [-1, 128, 16, 16]             256\n",
            "             ReLU-13          [-1, 128, 16, 16]               0\n",
            "           Conv2d-14          [-1, 256, 16, 16]         294,912\n",
            "        MaxPool2d-15            [-1, 256, 8, 8]               0\n",
            "      BatchNorm2d-16            [-1, 256, 8, 8]             512\n",
            "             ReLU-17            [-1, 256, 8, 8]               0\n",
            "           Conv2d-18            [-1, 512, 8, 8]       1,179,648\n",
            "        MaxPool2d-19            [-1, 512, 4, 4]               0\n",
            "      BatchNorm2d-20            [-1, 512, 4, 4]           1,024\n",
            "             ReLU-21            [-1, 512, 4, 4]               0\n",
            "           Conv2d-22            [-1, 512, 4, 4]       2,359,296\n",
            "      BatchNorm2d-23            [-1, 512, 4, 4]           1,024\n",
            "             ReLU-24            [-1, 512, 4, 4]               0\n",
            "           Conv2d-25            [-1, 512, 4, 4]       2,359,296\n",
            "      BatchNorm2d-26            [-1, 512, 4, 4]           1,024\n",
            "             ReLU-27            [-1, 512, 4, 4]               0\n",
            "        MaxPool2d-28            [-1, 512, 1, 1]               0\n",
            "           Linear-29                   [-1, 10]           5,130\n",
            "================================================================\n",
            "Total params: 6,573,130\n",
            "Trainable params: 6,573,130\n",
            "Non-trainable params: 0\n",
            "----------------------------------------------------------------\n",
            "Input size (MB): 0.01\n",
            "Forward/backward pass size (MB): 6.44\n",
            "Params size (MB): 25.07\n",
            "Estimated Total Size (MB): 31.53\n",
            "----------------------------------------------------------------\n"
          ],
          "name": "stdout"
        }
      ]
    },
    {
      "cell_type": "markdown",
      "metadata": {
        "id": "o-C6HlasfO11"
      },
      "source": [
        "# LR range test"
      ]
    },
    {
      "cell_type": "code",
      "metadata": {
        "id": "HjhX8DOHb9x2"
      },
      "source": [
        "momentum = 0.9\n",
        "weight_decay = 0.01\n",
        "max_lr = 0.25"
      ],
      "execution_count": 8,
      "outputs": []
    },
    {
      "cell_type": "code",
      "metadata": {
        "id": "MM-QdKF5ljD1",
        "outputId": "80639f99-2fb3-446c-cc48-366dc7471c59",
        "colab": {
          "base_uri": "https://localhost:8080/",
          "height": 408
        }
      },
      "source": [
        "experiment = Experiment(name='default', dataset_name='cifar10')\n",
        "experiment.run(epochs=10, momentum=0.9, lr=max_lr, regularization=None, weight_decay=weight_decay, max_lr=max_lr, epochs_up=10, base_momentum=0.85, div_factor=1e6)"
      ],
      "execution_count": 9,
      "outputs": [
        {
          "output_type": "stream",
          "text": [
            "CUDA status: True\n",
            "Files already downloaded and verified\n",
            "Files already downloaded and verified\n"
          ],
          "name": "stdout"
        },
        {
          "output_type": "stream",
          "text": [
            "TRAIN : epoch=0 train_loss=0.03275 correct/total=19286/50000 lr=0.03 accuracy=38.57: 100%|██████████| 782/782 [00:22<00:00, 34.80it/s]\n",
            "TEST :  epoch=0 test_loss=2.79588 correct/total=3877/10000 accuracy=\u001b[1m38.77\u001b[0m: 100%|██████████| 157/157 [00:02<00:00, 76.63it/s]\n",
            "TRAIN : epoch=1 train_loss=0.02222 correct/total=29201/50000 lr=0.05 accuracy=58.40: 100%|██████████| 782/782 [00:22<00:00, 35.30it/s]\n",
            "TEST :  epoch=1 test_loss=1.00295 correct/total=6518/10000 accuracy=\u001b[1m65.18\u001b[0m: 100%|██████████| 157/157 [00:02<00:00, 74.67it/s]\n",
            "TRAIN : epoch=2 train_loss=0.01303 correct/total=35767/50000 lr=0.08 accuracy=71.53: 100%|██████████| 782/782 [00:21<00:00, 35.74it/s]\n",
            "TEST :  epoch=2 test_loss=0.66131 correct/total=7810/10000 accuracy=\u001b[1m78.10\u001b[0m: 100%|██████████| 157/157 [00:02<00:00, 77.08it/s]\n",
            "TRAIN : epoch=3 train_loss=0.01073 correct/total=38184/50000 lr=0.10 accuracy=76.37: 100%|██████████| 782/782 [00:21<00:00, 35.90it/s]\n",
            "TEST :  epoch=3 test_loss=0.59950 correct/total=8001/10000 accuracy=\u001b[1m80.01\u001b[0m: 100%|██████████| 157/157 [00:02<00:00, 77.44it/s]\n",
            "TRAIN : epoch=4 train_loss=0.00968 correct/total=39331/50000 lr=0.13 accuracy=78.66: 100%|██████████| 782/782 [00:21<00:00, 36.11it/s]\n",
            "TEST :  epoch=4 test_loss=0.58566 correct/total=8080/10000 accuracy=\u001b[1m80.80\u001b[0m: 100%|██████████| 157/157 [00:02<00:00, 78.03it/s]\n",
            "TRAIN : epoch=5 train_loss=0.00879 correct/total=40368/50000 lr=0.15 accuracy=80.74: 100%|██████████| 782/782 [00:21<00:00, 35.87it/s]\n",
            "TEST :  epoch=5 test_loss=0.58534 correct/total=8080/10000 accuracy=\u001b[1m80.80\u001b[0m: 100%|██████████| 157/157 [00:02<00:00, 75.74it/s]\n",
            "TRAIN : epoch=6 train_loss=0.00838 correct/total=40846/50000 lr=0.18 accuracy=81.69: 100%|██████████| 782/782 [00:21<00:00, 36.33it/s]\n",
            "TEST :  epoch=6 test_loss=0.54276 correct/total=8212/10000 accuracy=\u001b[1m82.12\u001b[0m: 100%|██████████| 157/157 [00:02<00:00, 77.10it/s]\n",
            "TRAIN : epoch=7 train_loss=0.00799 correct/total=41261/50000 lr=0.20 accuracy=82.52: 100%|██████████| 782/782 [00:21<00:00, 36.23it/s]\n",
            "TEST :  epoch=7 test_loss=0.58996 correct/total=8136/10000 accuracy=\u001b[1m81.36\u001b[0m: 100%|██████████| 157/157 [00:02<00:00, 76.94it/s]\n",
            "TRAIN : epoch=8 train_loss=0.00758 correct/total=41866/50000 lr=0.23 accuracy=83.73: 100%|██████████| 782/782 [00:21<00:00, 35.86it/s]\n",
            "TEST :  epoch=8 test_loss=0.60284 correct/total=8195/10000 accuracy=\u001b[1m81.95\u001b[0m: 100%|██████████| 157/157 [00:02<00:00, 74.18it/s]\n",
            "TRAIN : epoch=9 train_loss=0.00729 correct/total=42136/50000 lr=0.25 accuracy=84.27: 100%|██████████| 782/782 [00:21<00:00, 36.02it/s]\n",
            "TEST :  epoch=9 test_loss=0.56096 correct/total=8264/10000 accuracy=\u001b[1m82.64\u001b[0m: 100%|██████████| 157/157 [00:02<00:00, 76.30it/s]\n"
          ],
          "name": "stderr"
        }
      ]
    },
    {
      "cell_type": "code",
      "metadata": {
        "id": "bzD5Vrp-SALf",
        "outputId": "2a14988a-b3c0-4207-b228-6bb7b8dab227",
        "colab": {
          "base_uri": "https://localhost:8080/",
          "height": 350
        }
      },
      "source": [
        "experiment.load_summary()\n",
        "experiment.plot_lr_range_test_ocp()"
      ],
      "execution_count": 12,
      "outputs": [
        {
          "output_type": "display_data",
          "data": {
            "image/png": "[encoded data removed]",
            "text/plain": [
              "<Figure size 1080x360 with 1 Axes>"
            ]
          },
          "metadata": {
            "tags": [],
            "needs_background": "light"
          }
        }
      ]
    },
    {
      "cell_type": "markdown",
      "metadata": {
        "id": "QqqYApRnW3s5"
      },
      "source": [
        "Selected max_lr is 0.125 as accuracy stagnates between 0.13 and 0.15"
      ]
    },
    {
      "cell_type": "markdown",
      "metadata": {
        "id": "--PFZhHsbQsu"
      },
      "source": [
        "# Training"
      ]
    },
    {
      "cell_type": "code",
      "metadata": {
        "id": "W-qba6gmR6BX"
      },
      "source": [
        "momentum = 0.9\n",
        "weight_decay = 0.01\n",
        "max_lr = 0.125"
      ],
      "execution_count": 13,
      "outputs": []
    },
    {
      "cell_type": "code",
      "metadata": {
        "id": "NgyJGw5kIORt",
        "outputId": "2d8c4399-b871-4e9b-a8a8-a4485cc7c823",
        "colab": {
          "base_uri": "https://localhost:8080/",
          "height": 68
        }
      },
      "source": [
        "experiment_ocp = Experiment(name='default', dataset_name='cifar10')"
      ],
      "execution_count": 14,
      "outputs": [
        {
          "output_type": "stream",
          "text": [
            "CUDA status: True\n",
            "Files already downloaded and verified\n",
            "Files already downloaded and verified\n"
          ],
          "name": "stdout"
        }
      ]
    },
    {
      "cell_type": "code",
      "metadata": {
        "id": "i5R3qxFTR9Wo",
        "outputId": "a867efeb-b3d7-4a48-a761-ad775bdd0cd7",
        "colab": {
          "base_uri": "https://localhost:8080/",
          "height": 357
        }
      },
      "source": [
        "experiment_ocp.run(epochs=10, momentum=0.9, lr=max_lr, regularization=None, weight_decay=weight_decay, max_lr=max_lr, epochs_up=5, base_momentum=0.85, div_factor=10)"
      ],
      "execution_count": 20,
      "outputs": [
        {
          "output_type": "stream",
          "text": [
            "TRAIN : epoch=0 train_loss=0.00100 correct/total=48909/50000 lr=0.04 accuracy=97.82: 100%|██████████| 782/782 [00:22<00:00, 35.50it/s]\n",
            "TEST :  epoch=0 test_loss=0.40944 correct/total=8972/10000 accuracy=\u001b[1m89.72\u001b[0m: 100%|██████████| 157/157 [00:02<00:00, 76.34it/s]\n",
            "TRAIN : epoch=1 train_loss=0.00155 correct/total=48319/50000 lr=0.06 accuracy=96.64: 100%|██████████| 782/782 [00:21<00:00, 36.16it/s]\n",
            "TEST :  epoch=1 test_loss=0.43830 correct/total=8878/10000 accuracy=\u001b[1m88.78\u001b[0m: 100%|██████████| 157/157 [00:02<00:00, 75.49it/s]\n",
            "TRAIN : epoch=2 train_loss=0.00212 correct/total=47699/50000 lr=0.08 accuracy=95.40: 100%|██████████| 782/782 [00:21<00:00, 36.16it/s]\n",
            "TEST :  epoch=2 test_loss=0.45245 correct/total=8818/10000 accuracy=\u001b[1m88.18\u001b[0m: 100%|██████████| 157/157 [00:02<00:00, 77.36it/s]\n",
            "TRAIN : epoch=3 train_loss=0.00283 correct/total=46873/50000 lr=0.10 accuracy=93.75: 100%|██████████| 782/782 [00:21<00:00, 36.05it/s]\n",
            "TEST :  epoch=3 test_loss=0.47065 correct/total=8720/10000 accuracy=\u001b[1m87.20\u001b[0m: 100%|██████████| 157/157 [00:02<00:00, 76.38it/s]\n",
            "TRAIN : epoch=4 train_loss=0.00345 correct/total=46282/50000 lr=0.12 accuracy=92.56: 100%|██████████| 782/782 [00:21<00:00, 35.65it/s]\n",
            "TEST :  epoch=4 test_loss=0.49671 correct/total=8665/10000 accuracy=\u001b[1m86.65\u001b[0m: 100%|██████████| 157/157 [00:02<00:00, 75.37it/s]\n",
            "TRAIN : epoch=5 train_loss=0.00340 correct/total=46261/50000 lr=0.10 accuracy=92.52: 100%|██████████| 782/782 [00:21<00:00, 35.88it/s]\n",
            "TEST :  epoch=5 test_loss=0.43697 correct/total=8806/10000 accuracy=\u001b[1m88.06\u001b[0m: 100%|██████████| 157/157 [00:02<00:00, 76.63it/s]\n",
            "TRAIN : epoch=6 train_loss=0.00254 correct/total=47247/50000 lr=0.07 accuracy=94.49: 100%|██████████| 782/782 [00:21<00:00, 35.96it/s]\n",
            "TEST :  epoch=6 test_loss=0.40124 correct/total=8944/10000 accuracy=\u001b[1m89.44\u001b[0m: 100%|██████████| 157/157 [00:02<00:00, 75.46it/s]\n",
            "TRAIN : epoch=7 train_loss=0.00189 correct/total=48024/50000 lr=0.05 accuracy=96.05: 100%|██████████| 782/782 [00:21<00:00, 35.57it/s]\n",
            "TEST :  epoch=7 test_loss=0.41160 correct/total=8959/10000 accuracy=\u001b[1m89.59\u001b[0m: 100%|██████████| 157/157 [00:02<00:00, 77.45it/s]\n",
            "TRAIN : epoch=8 train_loss=0.00135 correct/total=48518/50000 lr=0.02 accuracy=97.04: 100%|██████████| 782/782 [00:21<00:00, 35.72it/s]\n",
            "TEST :  epoch=8 test_loss=0.40247 correct/total=9044/10000 accuracy=\u001b[1m90.44\u001b[0m: 100%|██████████| 157/157 [00:02<00:00, 76.64it/s]\n",
            "TRAIN : epoch=9 train_loss=0.00095 correct/total=48970/50000 lr=-0.00 accuracy=97.94: 100%|██████████| 782/782 [00:22<00:00, 35.52it/s]\n",
            "TEST :  epoch=9 test_loss=0.39782 correct/total=9073/10000 accuracy=\u001b[1m90.73\u001b[0m: 100%|██████████| 157/157 [00:02<00:00, 76.00it/s]\n"
          ],
          "name": "stderr"
        }
      ]
    },
    {
      "cell_type": "code",
      "metadata": {
        "id": "eX8gWXfNSZGp",
        "outputId": "067ad71f-e488-4c4e-9ebb-eb218dcdce87",
        "colab": {
          "base_uri": "https://localhost:8080/",
          "height": 350
        }
      },
      "source": [
        "experiment_ocp.load_summary()\n",
        "experiment_ocp.plot_metric()"
      ],
      "execution_count": 21,
      "outputs": [
        {
          "output_type": "display_data",
          "data": {
            "image/png": "[encoded data removed]",
            "text/plain": [
              "<Figure size 1080x360 with 1 Axes>"
            ]
          },
          "metadata": {
            "tags": [],
            "needs_background": "light"
          }
        }
      ]
    }
  ]
}