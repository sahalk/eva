{
 "cells": [
  {
   "cell_type": "markdown",
   "metadata": {
    "colab_type": "text",
    "id": "view-in-github"
   },
   "source": [
    "<a href=\"https://colab.research.google.com/github/siva-sankar-a/eva/blob/master/S11/EVA4_Session_11_super_convergence_with_API.ipynb\" target=\"_parent\"><img src=\"https://colab.research.google.com/assets/colab-badge.svg\" alt=\"Open In Colab\"/></a>"
   ]
  },
  {
   "cell_type": "code",
   "execution_count": null,
   "metadata": {},
   "outputs": [],
   "source": [
    "!git clone \"https://github.com/sahalk/eva.git\""
   ]
  },
  {
   "cell_type": "code",
   "execution_count": 0,
   "metadata": {
    "colab": {},
    "colab_type": "code",
    "id": "7pOL5Fx3uN_f"
   },
   "outputs": [],
   "source": [
    "import torch\n",
    "import torchvision\n",
    "import numpy as np\n",
    "\n",
    "from torch.nn import functional as F\n",
    "import matplotlib.pyplot as plt"
   ]
  },
  {
   "cell_type": "code",
   "execution_count": 5,
   "metadata": {
    "colab": {
     "base_uri": "https://localhost:8080/",
     "height": 283
    },
    "colab_type": "code",
    "id": "0C0jJND1GP-9",
    "outputId": "750b76ce-f210-437b-8d3f-a5510c031904"
   },
   "outputs": [
    {
     "data": {
      "text/plain": [
       "[<matplotlib.lines.Line2D at 0x7fa07ab35198>]"
      ]
     },
     "execution_count": 5,
     "metadata": {
      "tags": []
     },
     "output_type": "execute_result"
    },
    {
     "data": {
      "image/png": "[encoded data removed]",
      "text/plain": [
       "<Figure size 432x288 with 1 Axes>"
      ]
     },
     "metadata": {
      "needs_background": "light",
      "tags": []
     },
     "output_type": "display_data"
    }
   ],
   "source": [
    "lr_min = 0.1\n",
    "lr_max = 1.0\n",
    "\n",
    "n_epochs = 20\n",
    "batch_size = 128\n",
    "n_samples = 50000\n",
    "\n",
    "step_size = 1300\n",
    "\n",
    "max_iterations = np.floor((n_samples / batch_size) * n_epochs)\n",
    "\n",
    "iterations = np.arange(0, max_iterations)\n",
    "cycle = np.floor(1 + (iterations / (2 * step_size)))\n",
    "x = np.abs((iterations / step_size) - (2 * cycle) + 1)\n",
    "lr_t = lr_min + (lr_max - lr_min) * (1 - x)\n",
    "\n",
    "plt.plot(iterations, lr_t)"
   ]
  },
  {
   "cell_type": "code",
   "execution_count": 1,
   "metadata": {
    "colab": {
     "base_uri": "https://localhost:8080/",
     "height": 53
    },
    "colab_type": "code",
    "id": "64MWtDnufCdk",
    "outputId": "029b3331-2786-47cb-ace1-c73784b33188"
   },
   "outputs": [
    {
     "ename": "ModuleNotFoundError",
     "evalue": "No module named 'eva'",
     "output_type": "error",
     "traceback": [
      "\u001b[0;31m---------------------------------------------------------------------------\u001b[0m",
      "\u001b[0;31mModuleNotFoundError\u001b[0m                       Traceback (most recent call last)",
      "\u001b[0;32m<ipython-input-1-b6b17be58668>\u001b[0m in \u001b[0;36m<module>\u001b[0;34m\u001b[0m\n\u001b[0;32m----> 1\u001b[0;31m \u001b[0;32mfrom\u001b[0m \u001b[0meva\u001b[0m\u001b[0;34m.\u001b[0m\u001b[0mSession11\u001b[0m\u001b[0;34m.\u001b[0m\u001b[0mapi\u001b[0m \u001b[0;32mimport\u001b[0m \u001b[0mExperiment\u001b[0m\u001b[0;34m\u001b[0m\u001b[0;34m\u001b[0m\u001b[0m\n\u001b[0m\u001b[1;32m      2\u001b[0m \u001b[0;32mfrom\u001b[0m \u001b[0meva\u001b[0m\u001b[0;34m.\u001b[0m\u001b[0mSession11\u001b[0m\u001b[0;34m.\u001b[0m\u001b[0mdata_manager\u001b[0m\u001b[0;34m.\u001b[0m\u001b[0mdata_manager_albumentations\u001b[0m \u001b[0;32mimport\u001b[0m  \u001b[0mDataManager\u001b[0m\u001b[0;34m\u001b[0m\u001b[0;34m\u001b[0m\u001b[0m\n\u001b[1;32m      3\u001b[0m \u001b[0;32mfrom\u001b[0m \u001b[0meva\u001b[0m\u001b[0;34m.\u001b[0m\u001b[0mSession11\u001b[0m\u001b[0;34m.\u001b[0m\u001b[0mutils\u001b[0m \u001b[0;32mimport\u001b[0m \u001b[0mtextual_summary_cifar10\u001b[0m\u001b[0;34m,\u001b[0m \u001b[0mgraphical_summary_cifar10\u001b[0m\u001b[0;34m\u001b[0m\u001b[0;34m\u001b[0m\u001b[0m\n\u001b[1;32m      4\u001b[0m \u001b[0;32mfrom\u001b[0m \u001b[0meva\u001b[0m\u001b[0;34m.\u001b[0m\u001b[0mSession11\u001b[0m\u001b[0;34m.\u001b[0m\u001b[0msettings\u001b[0m \u001b[0;32mimport\u001b[0m \u001b[0mcifar10_classes\u001b[0m\u001b[0;34m\u001b[0m\u001b[0;34m\u001b[0m\u001b[0m\n\u001b[1;32m      5\u001b[0m \u001b[0;32mfrom\u001b[0m \u001b[0meva\u001b[0m\u001b[0;34m.\u001b[0m\u001b[0mSession11\u001b[0m\u001b[0;34m.\u001b[0m\u001b[0mmodels\u001b[0m\u001b[0;34m.\u001b[0m\u001b[0mmodel_s11\u001b[0m \u001b[0;32mimport\u001b[0m \u001b[0mNet\u001b[0m\u001b[0;34m\u001b[0m\u001b[0;34m\u001b[0m\u001b[0m\n",
      "\u001b[0;31mModuleNotFoundError\u001b[0m: No module named 'eva'"
     ]
    }
   ],
   "source": [
    "from eva.Session11.api import Experiment\n",
    "from eva.Session11.data_manager.data_manager_albumentations import  DataManager\n",
    "from eva.Session11.utils import textual_summary_cifar10, graphical_summary_cifar10\n",
    "from eva.Session11.settings import cifar10_classes\n",
    "from eva.Session11.models.model_s11 import Net\n",
    "from eva.Session11.grad_cam.grad_cam import GradCam"
   ]
  },
  {
   "cell_type": "markdown",
   "metadata": {
    "colab_type": "text",
    "id": "R3PLL8A6_pfy"
   },
   "source": [
    "### Create an instance of experiment class"
   ]
  },
  {
   "cell_type": "code",
   "execution_count": 35,
   "metadata": {
    "colab": {
     "base_uri": "https://localhost:8080/",
     "height": 71
    },
    "colab_type": "code",
    "id": "aDXrkRBweFFT",
    "outputId": "859f1bc7-9c92-4bea-a452-78e548e5c688"
   },
   "outputs": [
    {
     "name": "stdout",
     "output_type": "stream",
     "text": [
      "CUDA status: True\n",
      "Files already downloaded and verified\n",
      "Files already downloaded and verified\n"
     ]
    }
   ],
   "source": [
    "experiment = Experiment(name='default', dataset_name='cifar10')"
   ]
  },
  {
   "cell_type": "code",
   "execution_count": 10,
   "metadata": {
    "colab": {
     "base_uri": "https://localhost:8080/",
     "height": 773
    },
    "colab_type": "code",
    "id": "sF2KXlUokye8",
    "outputId": "af3a9f50-e545-41ea-a8b0-32d5a89edb0c"
   },
   "outputs": [
    {
     "name": "stdout",
     "output_type": "stream",
     "text": [
      "----------------------------------------------------------------\n",
      "        Layer (type)               Output Shape         Param #\n",
      "================================================================\n",
      "            Conv2d-1           [-1, 64, 32, 32]           1,728\n",
      "       BatchNorm2d-2           [-1, 64, 32, 32]             128\n",
      "              ReLU-3           [-1, 64, 32, 32]               0\n",
      "            Conv2d-4          [-1, 128, 32, 32]          73,728\n",
      "         MaxPool2d-5          [-1, 128, 16, 16]               0\n",
      "       BatchNorm2d-6          [-1, 128, 16, 16]             256\n",
      "              ReLU-7          [-1, 128, 16, 16]               0\n",
      "            Conv2d-8          [-1, 128, 16, 16]         147,456\n",
      "       BatchNorm2d-9          [-1, 128, 16, 16]             256\n",
      "             ReLU-10          [-1, 128, 16, 16]               0\n",
      "           Conv2d-11          [-1, 128, 16, 16]         147,456\n",
      "      BatchNorm2d-12          [-1, 128, 16, 16]             256\n",
      "             ReLU-13          [-1, 128, 16, 16]               0\n",
      "           Conv2d-14          [-1, 256, 16, 16]         294,912\n",
      "        MaxPool2d-15            [-1, 256, 8, 8]               0\n",
      "      BatchNorm2d-16            [-1, 256, 8, 8]             512\n",
      "             ReLU-17            [-1, 256, 8, 8]               0\n",
      "           Conv2d-18            [-1, 512, 8, 8]       1,179,648\n",
      "        MaxPool2d-19            [-1, 512, 4, 4]               0\n",
      "      BatchNorm2d-20            [-1, 512, 4, 4]           1,024\n",
      "             ReLU-21            [-1, 512, 4, 4]               0\n",
      "           Conv2d-22            [-1, 512, 4, 4]       2,359,296\n",
      "      BatchNorm2d-23            [-1, 512, 4, 4]           1,024\n",
      "             ReLU-24            [-1, 512, 4, 4]               0\n",
      "           Conv2d-25            [-1, 512, 4, 4]       2,359,296\n",
      "      BatchNorm2d-26            [-1, 512, 4, 4]           1,024\n",
      "             ReLU-27            [-1, 512, 4, 4]               0\n",
      "        MaxPool2d-28            [-1, 512, 1, 1]               0\n",
      "           Linear-29                   [-1, 10]           5,130\n",
      "================================================================\n",
      "Total params: 6,573,130\n",
      "Trainable params: 6,573,130\n",
      "Non-trainable params: 0\n",
      "----------------------------------------------------------------\n",
      "Input size (MB): 0.01\n",
      "Forward/backward pass size (MB): 6.44\n",
      "Params size (MB): 25.07\n",
      "Estimated Total Size (MB): 31.53\n",
      "----------------------------------------------------------------\n"
     ]
    }
   ],
   "source": [
    "textual_summary_cifar10(experiment.model)"
   ]
  },
  {
   "cell_type": "markdown",
   "metadata": {
    "colab_type": "text",
    "id": "o-C6HlasfO11"
   },
   "source": [
    "# LR range test"
   ]
  },
  {
   "cell_type": "code",
   "execution_count": 0,
   "metadata": {
    "colab": {},
    "colab_type": "code",
    "id": "HjhX8DOHb9x2"
   },
   "outputs": [],
   "source": [
    "momentum = 0.9\n",
    "weight_decay = 0.01\n",
    "max_lr = 0.25"
   ]
  },
  {
   "cell_type": "code",
   "execution_count": 64,
   "metadata": {
    "colab": {
     "base_uri": "https://localhost:8080/",
     "height": 431
    },
    "colab_type": "code",
    "id": "MM-QdKF5ljD1",
    "outputId": "a3ba432e-7cc7-4436-cdfa-1ed22ba0e897"
   },
   "outputs": [
    {
     "name": "stdout",
     "output_type": "stream",
     "text": [
      "CUDA status: True\n",
      "Files already downloaded and verified\n",
      "Files already downloaded and verified\n"
     ]
    },
    {
     "name": "stderr",
     "output_type": "stream",
     "text": [
      "TRAIN : epoch=0 train_loss=0.03196 correct/total=19361/50000 lr=0.03 accuracy=38.72: 100%|██████████| 782/782 [00:22<00:00, 34.42it/s]\n",
      "TEST :  epoch=0 test_loss=2.26861 correct/total=4098/10000 accuracy=\u001b[1m40.98\u001b[0m: 100%|██████████| 157/157 [00:02<00:00, 75.48it/s]\n",
      "TRAIN : epoch=1 train_loss=0.02138 correct/total=29932/50000 lr=0.05 accuracy=59.86: 100%|██████████| 782/782 [00:22<00:00, 34.94it/s]\n",
      "TEST :  epoch=1 test_loss=0.93995 correct/total=6946/10000 accuracy=\u001b[1m69.46\u001b[0m: 100%|██████████| 157/157 [00:02<00:00, 75.80it/s]\n",
      "TRAIN : epoch=2 train_loss=0.01276 correct/total=36054/50000 lr=0.08 accuracy=72.11: 100%|██████████| 782/782 [00:22<00:00, 34.66it/s]\n",
      "TEST :  epoch=2 test_loss=0.69255 correct/total=7729/10000 accuracy=\u001b[1m77.29\u001b[0m: 100%|██████████| 157/157 [00:02<00:00, 73.09it/s]\n",
      "TRAIN : epoch=3 train_loss=0.01069 correct/total=38228/50000 lr=0.10 accuracy=76.46: 100%|██████████| 782/782 [00:22<00:00, 34.62it/s]\n",
      "TEST :  epoch=3 test_loss=0.65647 correct/total=7820/10000 accuracy=\u001b[1m78.20\u001b[0m: 100%|██████████| 157/157 [00:02<00:00, 75.25it/s]\n",
      "TRAIN : epoch=4 train_loss=0.00960 correct/total=39457/50000 lr=0.13 accuracy=78.91: 100%|██████████| 782/782 [00:22<00:00, 34.68it/s]\n",
      "TEST :  epoch=4 test_loss=0.60952 correct/total=8038/10000 accuracy=\u001b[1m80.38\u001b[0m: 100%|██████████| 157/157 [00:02<00:00, 73.50it/s]\n",
      "TRAIN : epoch=5 train_loss=0.00882 correct/total=40403/50000 lr=0.15 accuracy=80.81: 100%|██████████| 782/782 [00:22<00:00, 34.47it/s]\n",
      "TEST :  epoch=5 test_loss=0.58962 correct/total=8089/10000 accuracy=\u001b[1m80.89\u001b[0m: 100%|██████████| 157/157 [00:02<00:00, 75.84it/s]\n",
      "TRAIN : epoch=6 train_loss=0.00860 correct/total=40686/50000 lr=0.18 accuracy=81.37: 100%|██████████| 782/782 [00:22<00:00, 34.29it/s]\n",
      "TEST :  epoch=6 test_loss=0.66341 correct/total=7817/10000 accuracy=\u001b[1m78.17\u001b[0m: 100%|██████████| 157/157 [00:02<00:00, 75.37it/s]\n",
      "TRAIN : epoch=7 train_loss=0.00797 correct/total=41293/50000 lr=0.20 accuracy=82.59: 100%|██████████| 782/782 [00:22<00:00, 34.43it/s]\n",
      "TEST :  epoch=7 test_loss=0.55694 correct/total=8225/10000 accuracy=\u001b[1m82.25\u001b[0m: 100%|██████████| 157/157 [00:02<00:00, 74.52it/s]\n",
      "TRAIN : epoch=8 train_loss=0.00760 correct/total=41823/50000 lr=0.23 accuracy=83.65: 100%|██████████| 782/782 [00:22<00:00, 34.31it/s]\n",
      "TEST :  epoch=8 test_loss=0.63473 correct/total=8025/10000 accuracy=\u001b[1m80.25\u001b[0m: 100%|██████████| 157/157 [00:02<00:00, 73.80it/s]\n",
      "TRAIN : epoch=9 train_loss=0.00735 correct/total=42114/50000 lr=0.25 accuracy=84.23: 100%|██████████| 782/782 [00:22<00:00, 34.30it/s]\n",
      "TEST :  epoch=9 test_loss=0.49831 correct/total=8342/10000 accuracy=\u001b[1m83.42\u001b[0m: 100%|██████████| 157/157 [00:02<00:00, 75.26it/s]\n"
     ]
    }
   ],
   "source": [
    "experiment = Experiment(name='default', dataset_name='cifar10')\n",
    "experiment.run(epochs=10, momentum=0.9, lr=max_lr, regularization=None, weight_decay=weight_decay, max_lr=max_lr, epochs_up=10, base_momentum=0.85, div_factor=1e6)"
   ]
  },
  {
   "cell_type": "code",
   "execution_count": 65,
   "metadata": {
    "colab": {
     "base_uri": "https://localhost:8080/",
     "height": 350
    },
    "colab_type": "code",
    "id": "bzD5Vrp-SALf",
    "outputId": "5ec04bd1-6297-4f4e-95f7-db2940805cb7"
   },
   "outputs": [
    {
     "data": {
      "image/png": "[encoded data removed]",
      "text/plain": [
       "<Figure size 1080x360 with 1 Axes>"
      ]
     },
     "metadata": {
      "needs_background": "light",
      "tags": []
     },
     "output_type": "display_data"
    }
   ],
   "source": [
    "experiment.load_summary()\n",
    "experiment.plot_lr_range_test_ocp()"
   ]
  },
  {
   "cell_type": "markdown",
   "metadata": {
    "colab_type": "text",
    "id": "QqqYApRnW3s5"
   },
   "source": [
    "Selected max_lr is 0.125 as accuracy stagnates between 0.13 and 0.15"
   ]
  },
  {
   "cell_type": "markdown",
   "metadata": {
    "colab_type": "text",
    "id": "--PFZhHsbQsu"
   },
   "source": [
    "# Training"
   ]
  },
  {
   "cell_type": "code",
   "execution_count": 0,
   "metadata": {
    "colab": {},
    "colab_type": "code",
    "id": "W-qba6gmR6BX"
   },
   "outputs": [],
   "source": [
    "momentum = 0.9\n",
    "weight_decay = 0.01\n",
    "max_lr = 0.125"
   ]
  },
  {
   "cell_type": "code",
   "execution_count": 54,
   "metadata": {
    "colab": {
     "base_uri": "https://localhost:8080/",
     "height": 71
    },
    "colab_type": "code",
    "id": "NgyJGw5kIORt",
    "outputId": "c962ee82-c5c5-418b-fbf3-7618022e6b37"
   },
   "outputs": [
    {
     "name": "stdout",
     "output_type": "stream",
     "text": [
      "CUDA status: True\n",
      "Files already downloaded and verified\n",
      "Files already downloaded and verified\n"
     ]
    }
   ],
   "source": [
    "experiment_ocp = Experiment(name='default', dataset_name='cifar10')"
   ]
  },
  {
   "cell_type": "code",
   "execution_count": 55,
   "metadata": {
    "colab": {
     "base_uri": "https://localhost:8080/",
     "height": 881
    },
    "colab_type": "code",
    "id": "i5R3qxFTR9Wo",
    "outputId": "7d80cd5b-c369-4068-e608-a4b0b201ce08"
   },
   "outputs": [
    {
     "name": "stderr",
     "output_type": "stream",
     "text": [
      "TRAIN : epoch=0 train_loss=0.04367 correct/total=13627/50000 lr=0.04 accuracy=27.25: 100%|██████████| 782/782 [00:22<00:00, 35.47it/s]\n",
      "TEST :  epoch=0 test_loss=1.62996 correct/total=4348/10000 accuracy=\u001b[1m43.48\u001b[0m: 100%|██████████| 157/157 [00:02<00:00, 76.21it/s]\n",
      "TRAIN : epoch=1 train_loss=0.02024 correct/total=27465/50000 lr=0.06 accuracy=54.93: 100%|██████████| 782/782 [00:22<00:00, 35.32it/s]\n",
      "TEST :  epoch=1 test_loss=1.01712 correct/total=6621/10000 accuracy=\u001b[1m66.21\u001b[0m: 100%|██████████| 157/157 [00:02<00:00, 77.01it/s]\n",
      "TRAIN : epoch=2 train_loss=0.01409 correct/total=34392/50000 lr=0.08 accuracy=68.78: 100%|██████████| 782/782 [00:22<00:00, 35.21it/s]\n",
      "TEST :  epoch=2 test_loss=0.86095 correct/total=7094/10000 accuracy=\u001b[1m70.94\u001b[0m: 100%|██████████| 157/157 [00:02<00:00, 74.49it/s]\n",
      "TRAIN : epoch=3 train_loss=0.01161 correct/total=37220/50000 lr=0.10 accuracy=74.44: 100%|██████████| 782/782 [00:22<00:00, 35.02it/s]\n",
      "TEST :  epoch=3 test_loss=0.63230 correct/total=7911/10000 accuracy=\u001b[1m79.11\u001b[0m: 100%|██████████| 157/157 [00:02<00:00, 75.00it/s]\n",
      "TRAIN : epoch=4 train_loss=0.01011 correct/total=38742/50000 lr=0.12 accuracy=77.48: 100%|██████████| 782/782 [00:22<00:00, 35.36it/s]\n",
      "TEST :  epoch=4 test_loss=0.63841 correct/total=7903/10000 accuracy=\u001b[1m79.03\u001b[0m: 100%|██████████| 157/157 [00:02<00:00, 74.52it/s]\n",
      "TRAIN : epoch=5 train_loss=0.00892 correct/total=40285/50000 lr=0.12 accuracy=80.57: 100%|██████████| 782/782 [00:22<00:00, 35.19it/s]\n",
      "TEST :  epoch=5 test_loss=1.02752 correct/total=7678/10000 accuracy=\u001b[1m76.78\u001b[0m: 100%|██████████| 157/157 [00:02<00:00, 74.70it/s]\n",
      "TRAIN : epoch=6 train_loss=0.00833 correct/total=40888/50000 lr=0.11 accuracy=81.78: 100%|██████████| 782/782 [00:22<00:00, 34.96it/s]\n",
      "TEST :  epoch=6 test_loss=0.52803 correct/total=8185/10000 accuracy=\u001b[1m81.85\u001b[0m: 100%|██████████| 157/157 [00:02<00:00, 75.16it/s]\n",
      "TRAIN : epoch=7 train_loss=0.00709 correct/total=42203/50000 lr=0.11 accuracy=84.41: 100%|██████████| 782/782 [00:22<00:00, 35.06it/s]\n",
      "TEST :  epoch=7 test_loss=0.46542 correct/total=8470/10000 accuracy=\u001b[1m84.70\u001b[0m: 100%|██████████| 157/157 [00:02<00:00, 75.80it/s]\n",
      "TRAIN : epoch=8 train_loss=0.00617 correct/total=43191/50000 lr=0.10 accuracy=86.38: 100%|██████████| 782/782 [00:23<00:00, 33.94it/s]\n",
      "TEST :  epoch=8 test_loss=0.49600 correct/total=8431/10000 accuracy=\u001b[1m84.31\u001b[0m: 100%|██████████| 157/157 [00:02<00:00, 74.37it/s]\n",
      "TRAIN : epoch=9 train_loss=0.00561 correct/total=43847/50000 lr=0.09 accuracy=87.69: 100%|██████████| 782/782 [00:22<00:00, 34.58it/s]\n",
      "TEST :  epoch=9 test_loss=0.41582 correct/total=8641/10000 accuracy=\u001b[1m86.41\u001b[0m: 100%|██████████| 157/157 [00:02<00:00, 71.77it/s]\n",
      "TRAIN : epoch=10 train_loss=0.00498 correct/total=44515/50000 lr=0.09 accuracy=89.03: 100%|██████████| 782/782 [00:22<00:00, 34.80it/s]\n",
      "TEST :  epoch=10 test_loss=0.44617 correct/total=8644/10000 accuracy=\u001b[1m86.44\u001b[0m: 100%|██████████| 157/157 [00:02<00:00, 74.37it/s]\n",
      "TRAIN : epoch=11 train_loss=0.00446 correct/total=45040/50000 lr=0.08 accuracy=90.08: 100%|██████████| 782/782 [00:22<00:00, 34.79it/s]\n",
      "TEST :  epoch=11 test_loss=0.40361 correct/total=8756/10000 accuracy=\u001b[1m87.56\u001b[0m: 100%|██████████| 157/157 [00:02<00:00, 73.66it/s]\n",
      "TRAIN : epoch=12 train_loss=0.00406 correct/total=45429/50000 lr=0.07 accuracy=90.86: 100%|██████████| 782/782 [00:22<00:00, 35.06it/s]\n",
      "TEST :  epoch=12 test_loss=0.37761 correct/total=8826/10000 accuracy=\u001b[1m88.26\u001b[0m: 100%|██████████| 157/157 [00:02<00:00, 74.74it/s]\n",
      "TRAIN : epoch=13 train_loss=0.00354 correct/total=46072/50000 lr=0.07 accuracy=92.14: 100%|██████████| 782/782 [00:22<00:00, 35.04it/s]\n",
      "TEST :  epoch=13 test_loss=0.39521 correct/total=8861/10000 accuracy=\u001b[1m88.61\u001b[0m: 100%|██████████| 157/157 [00:02<00:00, 73.83it/s]\n",
      "TRAIN : epoch=14 train_loss=0.00316 correct/total=46560/50000 lr=0.06 accuracy=93.12: 100%|██████████| 782/782 [00:22<00:00, 35.07it/s]\n",
      "TEST :  epoch=14 test_loss=0.35157 correct/total=8935/10000 accuracy=\u001b[1m89.35\u001b[0m: 100%|██████████| 157/157 [00:02<00:00, 74.99it/s]\n",
      "TRAIN : epoch=15 train_loss=0.00275 correct/total=46952/50000 lr=0.05 accuracy=93.90: 100%|██████████| 782/782 [00:22<00:00, 35.41it/s]\n",
      "TEST :  epoch=15 test_loss=0.39400 correct/total=8879/10000 accuracy=\u001b[1m88.79\u001b[0m: 100%|██████████| 157/157 [00:02<00:00, 74.00it/s]\n",
      "TRAIN : epoch=16 train_loss=0.00242 correct/total=47292/50000 lr=0.05 accuracy=94.58: 100%|██████████| 782/782 [00:22<00:00, 35.22it/s]\n",
      "TEST :  epoch=16 test_loss=0.44473 correct/total=8802/10000 accuracy=\u001b[1m88.02\u001b[0m: 100%|██████████| 157/157 [00:02<00:00, 72.22it/s]\n",
      "TRAIN : epoch=17 train_loss=0.00213 correct/total=47621/50000 lr=0.04 accuracy=95.24: 100%|██████████| 782/782 [00:22<00:00, 34.82it/s]\n",
      "TEST :  epoch=17 test_loss=0.37547 correct/total=8945/10000 accuracy=\u001b[1m89.45\u001b[0m: 100%|██████████| 157/157 [00:02<00:00, 74.35it/s]\n",
      "TRAIN : epoch=18 train_loss=0.00186 correct/total=47931/50000 lr=0.03 accuracy=95.86: 100%|██████████| 782/782 [00:22<00:00, 34.50it/s]\n",
      "TEST :  epoch=18 test_loss=0.38110 correct/total=8916/10000 accuracy=\u001b[1m89.16\u001b[0m: 100%|██████████| 157/157 [00:02<00:00, 71.44it/s]\n",
      "TRAIN : epoch=19 train_loss=0.00152 correct/total=48300/50000 lr=0.03 accuracy=96.60: 100%|██████████| 782/782 [00:22<00:00, 34.29it/s]\n",
      "TEST :  epoch=19 test_loss=0.37730 correct/total=9009/10000 accuracy=\u001b[1m90.09\u001b[0m: 100%|██████████| 157/157 [00:02<00:00, 72.03it/s]\n",
      "TRAIN : epoch=20 train_loss=0.00140 correct/total=48524/50000 lr=0.02 accuracy=97.05: 100%|██████████| 782/782 [00:22<00:00, 34.40it/s]\n",
      "TEST :  epoch=20 test_loss=0.35990 correct/total=9036/10000 accuracy=\u001b[1m90.36\u001b[0m: 100%|██████████| 157/157 [00:02<00:00, 69.59it/s]\n",
      "TRAIN : epoch=21 train_loss=0.00122 correct/total=48687/50000 lr=0.01 accuracy=97.37: 100%|██████████| 782/782 [00:22<00:00, 34.58it/s]\n",
      "TEST :  epoch=21 test_loss=0.35489 correct/total=9067/10000 accuracy=\u001b[1m90.67\u001b[0m: 100%|██████████| 157/157 [00:02<00:00, 72.60it/s]\n",
      "TRAIN : epoch=22 train_loss=0.00103 correct/total=48850/50000 lr=0.01 accuracy=97.70: 100%|██████████| 782/782 [00:22<00:00, 34.32it/s]\n",
      "TEST :  epoch=22 test_loss=0.34964 correct/total=9109/10000 accuracy=\u001b[1m91.09\u001b[0m: 100%|██████████| 157/157 [00:02<00:00, 72.20it/s]\n",
      "TRAIN : epoch=23 train_loss=0.00088 correct/total=49051/50000 lr=-0.00 accuracy=98.10: 100%|██████████| 782/782 [00:22<00:00, 34.26it/s]\n",
      "TEST :  epoch=23 test_loss=0.35110 correct/total=9118/10000 accuracy=\u001b[1m91.18\u001b[0m: 100%|██████████| 157/157 [00:02<00:00, 73.25it/s]\n"
     ]
    }
   ],
   "source": [
    "experiment_ocp.run(epochs=24, momentum=0.9, lr=max_lr, regularization=None, weight_decay=weight_decay, max_lr=max_lr, epochs_up=5, base_momentum=0.85, div_factor=10)"
   ]
  },
  {
   "cell_type": "code",
   "execution_count": 59,
   "metadata": {
    "colab": {
     "base_uri": "https://localhost:8080/",
     "height": 350
    },
    "colab_type": "code",
    "id": "eX8gWXfNSZGp",
    "outputId": "ab1cb344-0774-4d70-9e8d-05988add35d0"
   },
   "outputs": [
    {
     "data": {
      "image/png": "[encoded data removed]",
      "text/plain": [
       "<Figure size 1080x360 with 1 Axes>"
      ]
     },
     "metadata": {
      "needs_background": "light",
      "tags": []
     },
     "output_type": "display_data"
    }
   ],
   "source": [
    "experiment_ocp.load_summary()\n",
    "experiment_ocp.plot_metric()"
   ]
  }
 ],
 "metadata": {
  "accelerator": "GPU",
  "colab": {
   "collapsed_sections": [],
   "include_colab_link": true,
   "name": "EVA4_Session_11_super_convergence_with_API.ipynb",
   "provenance": [],
   "toc_visible": true
  },
  "kernelspec": {
   "display_name": "Python 3",
   "language": "python",
   "name": "python3"
  },
  "language_info": {
   "codemirror_mode": {
    "name": "ipython",
    "version": 3
   },
   "file_extension": ".py",
   "mimetype": "text/x-python",
   "name": "python",
   "nbconvert_exporter": "python",
   "pygments_lexer": "ipython3",
   "version": "3.7.3"
  }
 },
 "nbformat": 4,
 "nbformat_minor": 1
}
