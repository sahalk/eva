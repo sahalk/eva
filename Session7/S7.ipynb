{
  "nbformat": 4,
  "nbformat_minor": 0,
  "metadata": {
    "kernelspec": {
      "name": "python3",
      "display_name": "Python 3"
    },
    "language_info": {
      "codemirror_mode": {
        "name": "ipython",
        "version": 3
      },
      "file_extension": ".py",
      "mimetype": "text/x-python",
      "name": "python",
      "nbconvert_exporter": "python",
      "pygments_lexer": "ipython3",
      "version": "3.6.6"
    },
    "colab": {
      "name": "EVA5_Session7.ipynb",
      "provenance": [],
      "collapsed_sections": [],
      "toc_visible": true
    },
    "accelerator": "GPU",
    "widgets": {
      "application/vnd.jupyter.widget-state+json": {
        "430a9492f85f4af9bacdec5b3a7c7e96": {
          "model_module": "@jupyter-widgets/controls",
          "model_name": "HBoxModel",
          "state": {
            "_view_name": "HBoxView",
            "_dom_classes": [],
            "_model_name": "HBoxModel",
            "_view_module": "@jupyter-widgets/controls",
            "_model_module_version": "1.5.0",
            "_view_count": null,
            "_view_module_version": "1.5.0",
            "box_style": "",
            "layout": "IPY_MODEL_1dc041be52224ffebc2eb118da73d206",
            "_model_module": "@jupyter-widgets/controls",
            "children": [
              "IPY_MODEL_f6beb1c576e6492cb7462e9a8e7b4a86",
              "IPY_MODEL_1e137ee8e4924929a4486b95db067f30"
            ]
          }
        },
        "1dc041be52224ffebc2eb118da73d206": {
          "model_module": "@jupyter-widgets/base",
          "model_name": "LayoutModel",
          "state": {
            "_view_name": "LayoutView",
            "grid_template_rows": null,
            "right": null,
            "justify_content": null,
            "_view_module": "@jupyter-widgets/base",
            "overflow": null,
            "_model_module_version": "1.2.0",
            "_view_count": null,
            "flex_flow": null,
            "width": null,
            "min_width": null,
            "border": null,
            "align_items": null,
            "bottom": null,
            "_model_module": "@jupyter-widgets/base",
            "top": null,
            "grid_column": null,
            "overflow_y": null,
            "overflow_x": null,
            "grid_auto_flow": null,
            "grid_area": null,
            "grid_template_columns": null,
            "flex": null,
            "_model_name": "LayoutModel",
            "justify_items": null,
            "grid_row": null,
            "max_height": null,
            "align_content": null,
            "visibility": null,
            "align_self": null,
            "height": null,
            "min_height": null,
            "padding": null,
            "grid_auto_rows": null,
            "grid_gap": null,
            "max_width": null,
            "order": null,
            "_view_module_version": "1.2.0",
            "grid_template_areas": null,
            "object_position": null,
            "object_fit": null,
            "grid_auto_columns": null,
            "margin": null,
            "display": null,
            "left": null
          }
        },
        "f6beb1c576e6492cb7462e9a8e7b4a86": {
          "model_module": "@jupyter-widgets/controls",
          "model_name": "FloatProgressModel",
          "state": {
            "_view_name": "ProgressView",
            "style": "IPY_MODEL_84108b629fd04e41a2551878aa28ddff",
            "_dom_classes": [],
            "description": "",
            "_model_name": "FloatProgressModel",
            "bar_style": "info",
            "max": 1,
            "_view_module": "@jupyter-widgets/controls",
            "_model_module_version": "1.5.0",
            "value": 1,
            "_view_count": null,
            "_view_module_version": "1.5.0",
            "orientation": "horizontal",
            "min": 0,
            "description_tooltip": null,
            "_model_module": "@jupyter-widgets/controls",
            "layout": "IPY_MODEL_9752573fcb774a5d89fc3c5d52864b02"
          }
        },
        "1e137ee8e4924929a4486b95db067f30": {
          "model_module": "@jupyter-widgets/controls",
          "model_name": "HTMLModel",
          "state": {
            "_view_name": "HTMLView",
            "style": "IPY_MODEL_7ee23a91794944d9a203b652ab19c805",
            "_dom_classes": [],
            "description": "",
            "_model_name": "HTMLModel",
            "placeholder": "​",
            "_view_module": "@jupyter-widgets/controls",
            "_model_module_version": "1.5.0",
            "value": " 170500096/? [00:30&lt;00:00, 17696427.28it/s]",
            "_view_count": null,
            "_view_module_version": "1.5.0",
            "description_tooltip": null,
            "_model_module": "@jupyter-widgets/controls",
            "layout": "IPY_MODEL_c12ca57747ca4af99d000874d63cc694"
          }
        },
        "84108b629fd04e41a2551878aa28ddff": {
          "model_module": "@jupyter-widgets/controls",
          "model_name": "ProgressStyleModel",
          "state": {
            "_view_name": "StyleView",
            "_model_name": "ProgressStyleModel",
            "description_width": "initial",
            "_view_module": "@jupyter-widgets/base",
            "_model_module_version": "1.5.0",
            "_view_count": null,
            "_view_module_version": "1.2.0",
            "bar_color": null,
            "_model_module": "@jupyter-widgets/controls"
          }
        },
        "9752573fcb774a5d89fc3c5d52864b02": {
          "model_module": "@jupyter-widgets/base",
          "model_name": "LayoutModel",
          "state": {
            "_view_name": "LayoutView",
            "grid_template_rows": null,
            "right": null,
            "justify_content": null,
            "_view_module": "@jupyter-widgets/base",
            "overflow": null,
            "_model_module_version": "1.2.0",
            "_view_count": null,
            "flex_flow": null,
            "width": null,
            "min_width": null,
            "border": null,
            "align_items": null,
            "bottom": null,
            "_model_module": "@jupyter-widgets/base",
            "top": null,
            "grid_column": null,
            "overflow_y": null,
            "overflow_x": null,
            "grid_auto_flow": null,
            "grid_area": null,
            "grid_template_columns": null,
            "flex": null,
            "_model_name": "LayoutModel",
            "justify_items": null,
            "grid_row": null,
            "max_height": null,
            "align_content": null,
            "visibility": null,
            "align_self": null,
            "height": null,
            "min_height": null,
            "padding": null,
            "grid_auto_rows": null,
            "grid_gap": null,
            "max_width": null,
            "order": null,
            "_view_module_version": "1.2.0",
            "grid_template_areas": null,
            "object_position": null,
            "object_fit": null,
            "grid_auto_columns": null,
            "margin": null,
            "display": null,
            "left": null
          }
        },
        "7ee23a91794944d9a203b652ab19c805": {
          "model_module": "@jupyter-widgets/controls",
          "model_name": "DescriptionStyleModel",
          "state": {
            "_view_name": "StyleView",
            "_model_name": "DescriptionStyleModel",
            "description_width": "",
            "_view_module": "@jupyter-widgets/base",
            "_model_module_version": "1.5.0",
            "_view_count": null,
            "_view_module_version": "1.2.0",
            "_model_module": "@jupyter-widgets/controls"
          }
        },
        "c12ca57747ca4af99d000874d63cc694": {
          "model_module": "@jupyter-widgets/base",
          "model_name": "LayoutModel",
          "state": {
            "_view_name": "LayoutView",
            "grid_template_rows": null,
            "right": null,
            "justify_content": null,
            "_view_module": "@jupyter-widgets/base",
            "overflow": null,
            "_model_module_version": "1.2.0",
            "_view_count": null,
            "flex_flow": null,
            "width": null,
            "min_width": null,
            "border": null,
            "align_items": null,
            "bottom": null,
            "_model_module": "@jupyter-widgets/base",
            "top": null,
            "grid_column": null,
            "overflow_y": null,
            "overflow_x": null,
            "grid_auto_flow": null,
            "grid_area": null,
            "grid_template_columns": null,
            "flex": null,
            "_model_name": "LayoutModel",
            "justify_items": null,
            "grid_row": null,
            "max_height": null,
            "align_content": null,
            "visibility": null,
            "align_self": null,
            "height": null,
            "min_height": null,
            "padding": null,
            "grid_auto_rows": null,
            "grid_gap": null,
            "max_width": null,
            "order": null,
            "_view_module_version": "1.2.0",
            "grid_template_areas": null,
            "object_position": null,
            "object_fit": null,
            "grid_auto_columns": null,
            "margin": null,
            "display": null,
            "left": null
          }
        }
      }
    }
  },
  "cells": [
    {
      "cell_type": "markdown",
      "metadata": {
        "id": "fPogbueepoCh",
        "colab_type": "text"
      },
      "source": [
        "\n",
        "EVA 5 Session 7\n",
        "=====================\n"
      ]
    },
    {
      "cell_type": "markdown",
      "metadata": {
        "id": "JcMskAyy1GWw",
        "colab_type": "text"
      },
      "source": [
        "## Cloning the reqiured module from GitHub."
      ]
    },
    {
      "cell_type": "code",
      "metadata": {
        "id": "1shS1vYEQCh_",
        "colab_type": "code",
        "colab": {
          "base_uri": "https://localhost:8080/",
          "height": 119
        },
        "outputId": "5b012314-a60c-4f9b-c6ed-040e6435e0da"
      },
      "source": [
        "!git clone \"https://github.com/sahalk/eva.git\""
      ],
      "execution_count": 1,
      "outputs": [
        {
          "output_type": "stream",
          "text": [
            "Cloning into 'eva'...\n",
            "remote: Enumerating objects: 85, done.\u001b[K\n",
            "remote: Counting objects: 100% (85/85), done.\u001b[K\n",
            "remote: Compressing objects: 100% (69/69), done.\u001b[K\n",
            "remote: Total 85 (delta 35), reused 57 (delta 13), pack-reused 0\u001b[K\n",
            "Unpacking objects: 100% (85/85), done.\n"
          ],
          "name": "stdout"
        }
      ]
    },
    {
      "cell_type": "markdown",
      "metadata": {
        "id": "LuYKwEO81TSh",
        "colab_type": "text"
      },
      "source": [
        "## Import the Network and the APIs required."
      ]
    },
    {
      "cell_type": "code",
      "metadata": {
        "id": "SOW3FnJeRe6p",
        "colab_type": "code",
        "colab": {}
      },
      "source": [
        "from eva.Session7.model import Net, Loader"
      ],
      "execution_count": 2,
      "outputs": []
    },
    {
      "cell_type": "markdown",
      "metadata": {
        "id": "vylfX_eU1XTD",
        "colab_type": "text"
      },
      "source": [
        "## Leading the CIFAR-10 dataset."
      ]
    },
    {
      "cell_type": "code",
      "metadata": {
        "id": "bTpe5pIDEhrM",
        "colab_type": "code",
        "colab": {
          "base_uri": "https://localhost:8080/",
          "height": 100,
          "referenced_widgets": [
            "430a9492f85f4af9bacdec5b3a7c7e96",
            "1dc041be52224ffebc2eb118da73d206",
            "f6beb1c576e6492cb7462e9a8e7b4a86",
            "1e137ee8e4924929a4486b95db067f30",
            "84108b629fd04e41a2551878aa28ddff",
            "9752573fcb774a5d89fc3c5d52864b02",
            "7ee23a91794944d9a203b652ab19c805",
            "c12ca57747ca4af99d000874d63cc694"
          ]
        },
        "outputId": "263496b3-04c6-4342-f19a-8586547797df"
      },
      "source": [
        "data_mean = (0.4914, 0.4822, 0.4465)\n",
        "data_std_dev = (0.2470, 0.2435, 0.2616)\n",
        "\n",
        "cifar = Loader(data_mean, data_std_dev)"
      ],
      "execution_count": 3,
      "outputs": [
        {
          "output_type": "stream",
          "text": [
            "Downloading https://www.cs.toronto.edu/~kriz/cifar-10-python.tar.gz to ./data/cifar-10-python.tar.gz\n"
          ],
          "name": "stdout"
        },
        {
          "output_type": "display_data",
          "data": {
            "application/vnd.jupyter.widget-view+json": {
              "model_id": "430a9492f85f4af9bacdec5b3a7c7e96",
              "version_minor": 0,
              "version_major": 2
            },
            "text/plain": [
              "HBox(children=(FloatProgress(value=1.0, bar_style='info', max=1.0), HTML(value='')))"
            ]
          },
          "metadata": {
            "tags": []
          }
        },
        {
          "output_type": "stream",
          "text": [
            "Extracting ./data/cifar-10-python.tar.gz to ./data\n",
            "Files already downloaded and verified\n"
          ],
          "name": "stdout"
        }
      ]
    },
    {
      "cell_type": "markdown",
      "metadata": {
        "id": "-jV67mMP1asU",
        "colab_type": "text"
      },
      "source": [
        "## Displaying the images"
      ]
    },
    {
      "cell_type": "code",
      "metadata": {
        "id": "q8fovrR7DFKx",
        "colab_type": "code",
        "colab": {
          "base_uri": "https://localhost:8080/",
          "height": 172
        },
        "outputId": "b76d6a89-abd5-4c51-f698-640b4116a272"
      },
      "source": [
        "cifar.disp_image(cifar.trainloader)"
      ],
      "execution_count": 4,
      "outputs": [
        {
          "output_type": "stream",
          "text": [
            "Clipping input data to the valid range for imshow with RGB data ([0..1] for floats or [0..255] for integers).\n"
          ],
          "name": "stderr"
        },
        {
          "output_type": "stream",
          "text": [
            " frog  ship   dog  ship\n"
          ],
          "name": "stdout"
        },
        {
          "output_type": "display_data",
          "data": {
            "image/png": "[encoded data removed]",
            "text/plain": [
              "<Figure size 432x288 with 1 Axes>"
            ]
          },
          "metadata": {
            "tags": [],
            "needs_background": "light"
          }
        }
      ]
    },
    {
      "cell_type": "markdown",
      "metadata": {
        "id": "ddV-WPMC1d3i",
        "colab_type": "text"
      },
      "source": [
        "## Printing the model summary"
      ]
    },
    {
      "cell_type": "code",
      "metadata": {
        "id": "UixuZ3-iPPIi",
        "colab_type": "code",
        "colab": {
          "base_uri": "https://localhost:8080/",
          "height": 765
        },
        "outputId": "8d1e96a8-8e82-4c04-a69b-e9665b2d07db"
      },
      "source": [
        "cifar.print_sum()"
      ],
      "execution_count": 5,
      "outputs": [
        {
          "output_type": "stream",
          "text": [
            "----------------------------------------------------------------\n",
            "        Layer (type)               Output Shape         Param #\n",
            "================================================================\n",
            "            Conv2d-1           [-1, 64, 32, 32]           1,728\n",
            "              ReLU-2           [-1, 64, 32, 32]               0\n",
            "       BatchNorm2d-3           [-1, 64, 32, 32]             128\n",
            "         MaxPool2d-4           [-1, 64, 16, 16]               0\n",
            "            Conv2d-5          [-1, 128, 18, 18]           8,192\n",
            "              ReLU-6          [-1, 128, 18, 18]               0\n",
            "       BatchNorm2d-7          [-1, 128, 18, 18]             256\n",
            "            Conv2d-8          [-1, 128, 18, 18]         147,456\n",
            "              ReLU-9          [-1, 128, 18, 18]               0\n",
            "      BatchNorm2d-10          [-1, 128, 18, 18]             256\n",
            "        MaxPool2d-11            [-1, 128, 9, 9]               0\n",
            "           Conv2d-12          [-1, 256, 11, 11]          32,768\n",
            "             ReLU-13          [-1, 256, 11, 11]               0\n",
            "      BatchNorm2d-14          [-1, 256, 11, 11]             512\n",
            "           Conv2d-15          [-1, 256, 11, 11]           2,304\n",
            "           Conv2d-16          [-1, 256, 11, 11]          65,536\n",
            "             ReLU-17          [-1, 256, 11, 11]               0\n",
            "      BatchNorm2d-18          [-1, 256, 11, 11]             512\n",
            "        MaxPool2d-19            [-1, 256, 5, 5]               0\n",
            "           Conv2d-20            [-1, 256, 7, 7]          65,536\n",
            "             ReLU-21            [-1, 256, 7, 7]               0\n",
            "      BatchNorm2d-22            [-1, 256, 7, 7]             512\n",
            "           Conv2d-23            [-1, 256, 7, 7]           2,304\n",
            "           Conv2d-24            [-1, 256, 7, 7]          65,536\n",
            "             ReLU-25            [-1, 256, 7, 7]               0\n",
            "      BatchNorm2d-26            [-1, 256, 7, 7]             512\n",
            "           Conv2d-27            [-1, 256, 7, 7]          65,536\n",
            "             ReLU-28            [-1, 256, 7, 7]               0\n",
            "      BatchNorm2d-29            [-1, 256, 7, 7]             512\n",
            "        AvgPool2d-30            [-1, 256, 1, 1]               0\n",
            "           Conv2d-31             [-1, 10, 1, 1]           2,560\n",
            "================================================================\n",
            "Total params: 462,656\n",
            "Trainable params: 462,656\n",
            "Non-trainable params: 0\n",
            "----------------------------------------------------------------\n",
            "Input size (MB): 0.01\n",
            "Forward/backward pass size (MB): 6.26\n",
            "Params size (MB): 1.76\n",
            "Estimated Total Size (MB): 8.04\n",
            "----------------------------------------------------------------\n"
          ],
          "name": "stdout"
        }
      ]
    },
    {
      "cell_type": "markdown",
      "metadata": {
        "id": "ycKVZcGE1h0F",
        "colab_type": "text"
      },
      "source": [
        "## Training the Network"
      ]
    },
    {
      "cell_type": "code",
      "metadata": {
        "id": "if7oCcgqPgvB",
        "colab_type": "code",
        "colab": {
          "base_uri": "https://localhost:8080/",
          "height": 1000
        },
        "outputId": "f430e8e4-b01e-431d-a9ee-2ee5de484aa5"
      },
      "source": [
        "learning_rate = 0.001\n",
        "momentum = 0.9\n",
        "epoch = 50\n",
        "\n",
        "cifar.train(epoch, learning_rate, learning_rate)"
      ],
      "execution_count": 6,
      "outputs": [
        {
          "output_type": "stream",
          "text": [
            "[1,  2000] loss: 1.999\n",
            "[1,  4000] loss: 1.762\n",
            "[1,  6000] loss: 1.639\n",
            "[1,  8000] loss: 1.556\n",
            "[1, 10000] loss: 1.473\n",
            "[1, 12000] loss: 1.387\n",
            "[2,  2000] loss: 1.302\n",
            "[2,  4000] loss: 1.269\n",
            "[2,  6000] loss: 1.219\n",
            "[2,  8000] loss: 1.184\n",
            "[2, 10000] loss: 1.149\n",
            "[2, 12000] loss: 1.123\n",
            "[3,  2000] loss: 1.045\n",
            "[3,  4000] loss: 1.009\n",
            "[3,  6000] loss: 1.010\n",
            "[3,  8000] loss: 0.994\n",
            "[3, 10000] loss: 0.991\n",
            "[3, 12000] loss: 0.958\n",
            "[4,  2000] loss: 0.883\n",
            "[4,  4000] loss: 0.880\n",
            "[4,  6000] loss: 0.858\n",
            "[4,  8000] loss: 0.850\n",
            "[4, 10000] loss: 0.839\n",
            "[4, 12000] loss: 0.831\n",
            "[5,  2000] loss: 0.751\n",
            "[5,  4000] loss: 0.766\n",
            "[5,  6000] loss: 0.753\n",
            "[5,  8000] loss: 0.747\n",
            "[5, 10000] loss: 0.726\n",
            "[5, 12000] loss: 0.754\n",
            "[6,  2000] loss: 0.663\n",
            "[6,  4000] loss: 0.666\n",
            "[6,  6000] loss: 0.659\n",
            "[6,  8000] loss: 0.666\n",
            "[6, 10000] loss: 0.674\n",
            "[6, 12000] loss: 0.681\n",
            "[7,  2000] loss: 0.568\n",
            "[7,  4000] loss: 0.589\n",
            "[7,  6000] loss: 0.598\n",
            "[7,  8000] loss: 0.608\n",
            "[7, 10000] loss: 0.603\n",
            "[7, 12000] loss: 0.625\n",
            "[8,  2000] loss: 0.520\n",
            "[8,  4000] loss: 0.540\n",
            "[8,  6000] loss: 0.557\n",
            "[8,  8000] loss: 0.538\n",
            "[8, 10000] loss: 0.536\n",
            "[8, 12000] loss: 0.537\n",
            "[9,  2000] loss: 0.450\n",
            "[9,  4000] loss: 0.458\n",
            "[9,  6000] loss: 0.478\n",
            "[9,  8000] loss: 0.491\n",
            "[9, 10000] loss: 0.504\n",
            "[9, 12000] loss: 0.498\n",
            "[10,  2000] loss: 0.413\n",
            "[10,  4000] loss: 0.420\n",
            "[10,  6000] loss: 0.435\n",
            "[10,  8000] loss: 0.427\n",
            "[10, 10000] loss: 0.448\n",
            "[10, 12000] loss: 0.455\n",
            "[11,  2000] loss: 0.367\n",
            "[11,  4000] loss: 0.385\n",
            "[11,  6000] loss: 0.387\n",
            "[11,  8000] loss: 0.400\n",
            "[11, 10000] loss: 0.401\n",
            "[11, 12000] loss: 0.413\n",
            "[12,  2000] loss: 0.313\n",
            "[12,  4000] loss: 0.349\n",
            "[12,  6000] loss: 0.336\n",
            "[12,  8000] loss: 0.366\n",
            "[12, 10000] loss: 0.381\n",
            "[12, 12000] loss: 0.364\n",
            "[13,  2000] loss: 0.295\n",
            "[13,  4000] loss: 0.303\n",
            "[13,  6000] loss: 0.308\n",
            "[13,  8000] loss: 0.323\n",
            "[13, 10000] loss: 0.334\n",
            "[13, 12000] loss: 0.332\n",
            "[14,  2000] loss: 0.261\n",
            "[14,  4000] loss: 0.268\n",
            "[14,  6000] loss: 0.260\n",
            "[14,  8000] loss: 0.303\n",
            "[14, 10000] loss: 0.296\n",
            "[14, 12000] loss: 0.318\n",
            "[15,  2000] loss: 0.218\n",
            "[15,  4000] loss: 0.250\n",
            "[15,  6000] loss: 0.241\n",
            "[15,  8000] loss: 0.254\n",
            "[15, 10000] loss: 0.270\n",
            "[15, 12000] loss: 0.269\n",
            "[16,  2000] loss: 0.194\n",
            "[16,  4000] loss: 0.208\n",
            "[16,  6000] loss: 0.206\n",
            "[16,  8000] loss: 0.237\n",
            "[16, 10000] loss: 0.241\n",
            "[16, 12000] loss: 0.249\n",
            "[17,  2000] loss: 0.179\n",
            "[17,  4000] loss: 0.186\n",
            "[17,  6000] loss: 0.201\n",
            "[17,  8000] loss: 0.199\n",
            "[17, 10000] loss: 0.209\n",
            "[17, 12000] loss: 0.217\n",
            "[18,  2000] loss: 0.153\n",
            "[18,  4000] loss: 0.163\n",
            "[18,  6000] loss: 0.172\n",
            "[18,  8000] loss: 0.191\n",
            "[18, 10000] loss: 0.208\n",
            "[18, 12000] loss: 0.206\n",
            "[19,  2000] loss: 0.139\n",
            "[19,  4000] loss: 0.140\n",
            "[19,  6000] loss: 0.153\n",
            "[19,  8000] loss: 0.164\n",
            "[19, 10000] loss: 0.166\n",
            "[19, 12000] loss: 0.179\n",
            "[20,  2000] loss: 0.125\n",
            "[20,  4000] loss: 0.125\n",
            "[20,  6000] loss: 0.138\n",
            "[20,  8000] loss: 0.144\n",
            "[20, 10000] loss: 0.143\n",
            "[20, 12000] loss: 0.166\n",
            "[21,  2000] loss: 0.114\n",
            "[21,  4000] loss: 0.119\n",
            "[21,  6000] loss: 0.130\n",
            "[21,  8000] loss: 0.141\n",
            "[21, 10000] loss: 0.145\n",
            "[21, 12000] loss: 0.131\n",
            "[22,  2000] loss: 0.107\n",
            "[22,  4000] loss: 0.106\n",
            "[22,  6000] loss: 0.114\n",
            "[22,  8000] loss: 0.114\n",
            "[22, 10000] loss: 0.112\n",
            "[22, 12000] loss: 0.126\n",
            "[23,  2000] loss: 0.092\n",
            "[23,  4000] loss: 0.093\n",
            "[23,  6000] loss: 0.090\n",
            "[23,  8000] loss: 0.095\n",
            "[23, 10000] loss: 0.116\n",
            "[23, 12000] loss: 0.117\n",
            "[24,  2000] loss: 0.073\n",
            "[24,  4000] loss: 0.089\n",
            "[24,  6000] loss: 0.086\n",
            "[24,  8000] loss: 0.097\n",
            "[24, 10000] loss: 0.100\n",
            "[24, 12000] loss: 0.110\n",
            "[25,  2000] loss: 0.079\n",
            "[25,  4000] loss: 0.076\n",
            "[25,  6000] loss: 0.080\n",
            "[25,  8000] loss: 0.084\n",
            "[25, 10000] loss: 0.088\n",
            "[25, 12000] loss: 0.095\n",
            "[26,  2000] loss: 0.064\n",
            "[26,  4000] loss: 0.076\n",
            "[26,  6000] loss: 0.067\n",
            "[26,  8000] loss: 0.084\n",
            "[26, 10000] loss: 0.089\n",
            "[26, 12000] loss: 0.071\n",
            "[27,  2000] loss: 0.062\n",
            "[27,  4000] loss: 0.060\n",
            "[27,  6000] loss: 0.072\n",
            "[27,  8000] loss: 0.073\n",
            "[27, 10000] loss: 0.081\n",
            "[27, 12000] loss: 0.085\n",
            "[28,  2000] loss: 0.059\n",
            "[28,  4000] loss: 0.061\n",
            "[28,  6000] loss: 0.052\n",
            "[28,  8000] loss: 0.065\n",
            "[28, 10000] loss: 0.079\n",
            "[28, 12000] loss: 0.085\n",
            "[29,  2000] loss: 0.054\n",
            "[29,  4000] loss: 0.052\n",
            "[29,  6000] loss: 0.060\n",
            "[29,  8000] loss: 0.059\n",
            "[29, 10000] loss: 0.062\n",
            "[29, 12000] loss: 0.061\n",
            "[30,  2000] loss: 0.052\n",
            "[30,  4000] loss: 0.048\n",
            "[30,  6000] loss: 0.051\n",
            "[30,  8000] loss: 0.047\n",
            "[30, 10000] loss: 0.060\n",
            "[30, 12000] loss: 0.060\n",
            "[31,  2000] loss: 0.042\n",
            "[31,  4000] loss: 0.047\n",
            "[31,  6000] loss: 0.044\n",
            "[31,  8000] loss: 0.051\n",
            "[31, 10000] loss: 0.058\n",
            "[31, 12000] loss: 0.059\n",
            "[32,  2000] loss: 0.049\n",
            "[32,  4000] loss: 0.051\n",
            "[32,  6000] loss: 0.047\n",
            "[32,  8000] loss: 0.050\n",
            "[32, 10000] loss: 0.050\n",
            "[32, 12000] loss: 0.048\n",
            "[33,  2000] loss: 0.040\n",
            "[33,  4000] loss: 0.041\n",
            "[33,  6000] loss: 0.039\n",
            "[33,  8000] loss: 0.048\n",
            "[33, 10000] loss: 0.051\n",
            "[33, 12000] loss: 0.053\n",
            "[34,  2000] loss: 0.036\n",
            "[34,  4000] loss: 0.042\n",
            "[34,  6000] loss: 0.044\n",
            "[34,  8000] loss: 0.046\n",
            "[34, 10000] loss: 0.045\n",
            "[34, 12000] loss: 0.041\n",
            "[35,  2000] loss: 0.036\n",
            "[35,  4000] loss: 0.031\n",
            "[35,  6000] loss: 0.035\n",
            "[35,  8000] loss: 0.041\n",
            "[35, 10000] loss: 0.038\n",
            "[35, 12000] loss: 0.045\n",
            "[36,  2000] loss: 0.035\n",
            "[36,  4000] loss: 0.041\n",
            "[36,  6000] loss: 0.034\n",
            "[36,  8000] loss: 0.037\n",
            "[36, 10000] loss: 0.041\n",
            "[36, 12000] loss: 0.039\n",
            "[37,  2000] loss: 0.028\n",
            "[37,  4000] loss: 0.030\n",
            "[37,  6000] loss: 0.026\n",
            "[37,  8000] loss: 0.039\n",
            "[37, 10000] loss: 0.035\n",
            "[37, 12000] loss: 0.033\n",
            "[38,  2000] loss: 0.031\n",
            "[38,  4000] loss: 0.026\n",
            "[38,  6000] loss: 0.029\n",
            "[38,  8000] loss: 0.030\n",
            "[38, 10000] loss: 0.037\n",
            "[38, 12000] loss: 0.034\n",
            "[39,  2000] loss: 0.023\n",
            "[39,  4000] loss: 0.031\n",
            "[39,  6000] loss: 0.033\n",
            "[39,  8000] loss: 0.028\n",
            "[39, 10000] loss: 0.033\n",
            "[39, 12000] loss: 0.036\n",
            "[40,  2000] loss: 0.027\n",
            "[40,  4000] loss: 0.029\n",
            "[40,  6000] loss: 0.037\n",
            "[40,  8000] loss: 0.032\n",
            "[40, 10000] loss: 0.034\n",
            "[40, 12000] loss: 0.036\n",
            "[41,  2000] loss: 0.030\n",
            "[41,  4000] loss: 0.028\n",
            "[41,  6000] loss: 0.025\n",
            "[41,  8000] loss: 0.022\n",
            "[41, 10000] loss: 0.028\n",
            "[41, 12000] loss: 0.034\n",
            "[42,  2000] loss: 0.022\n",
            "[42,  4000] loss: 0.030\n",
            "[42,  6000] loss: 0.024\n",
            "[42,  8000] loss: 0.027\n",
            "[42, 10000] loss: 0.036\n",
            "[42, 12000] loss: 0.031\n",
            "[43,  2000] loss: 0.027\n",
            "[43,  4000] loss: 0.025\n",
            "[43,  6000] loss: 0.027\n",
            "[43,  8000] loss: 0.024\n",
            "[43, 10000] loss: 0.027\n",
            "[43, 12000] loss: 0.028\n",
            "[44,  2000] loss: 0.026\n",
            "[44,  4000] loss: 0.024\n",
            "[44,  6000] loss: 0.022\n",
            "[44,  8000] loss: 0.023\n",
            "[44, 10000] loss: 0.026\n",
            "[44, 12000] loss: 0.025\n",
            "[45,  2000] loss: 0.021\n",
            "[45,  4000] loss: 0.021\n",
            "[45,  6000] loss: 0.024\n",
            "[45,  8000] loss: 0.024\n",
            "[45, 10000] loss: 0.027\n",
            "[45, 12000] loss: 0.026\n",
            "[46,  2000] loss: 0.020\n",
            "[46,  4000] loss: 0.022\n",
            "[46,  6000] loss: 0.019\n",
            "[46,  8000] loss: 0.019\n",
            "[46, 10000] loss: 0.021\n",
            "[46, 12000] loss: 0.024\n",
            "[47,  2000] loss: 0.018\n",
            "[47,  4000] loss: 0.019\n",
            "[47,  6000] loss: 0.021\n",
            "[47,  8000] loss: 0.021\n",
            "[47, 10000] loss: 0.024\n",
            "[47, 12000] loss: 0.021\n",
            "[48,  2000] loss: 0.015\n",
            "[48,  4000] loss: 0.019\n",
            "[48,  6000] loss: 0.017\n",
            "[48,  8000] loss: 0.022\n",
            "[48, 10000] loss: 0.027\n",
            "[48, 12000] loss: 0.026\n",
            "[49,  2000] loss: 0.024\n",
            "[49,  4000] loss: 0.022\n",
            "[49,  6000] loss: 0.022\n",
            "[49,  8000] loss: 0.021\n",
            "[49, 10000] loss: 0.026\n",
            "[49, 12000] loss: 0.027\n",
            "[50,  2000] loss: 0.020\n",
            "[50,  4000] loss: 0.025\n",
            "[50,  6000] loss: 0.019\n",
            "[50,  8000] loss: 0.018\n",
            "[50, 10000] loss: 0.023\n",
            "[50, 12000] loss: 0.019\n",
            "Finished Training\n"
          ],
          "name": "stdout"
        }
      ]
    },
    {
      "cell_type": "markdown",
      "metadata": {
        "id": "P5yQ7fEO1k73",
        "colab_type": "text"
      },
      "source": [
        "## Testing the accuracy of the network and the accuracy of each class."
      ]
    },
    {
      "cell_type": "code",
      "metadata": {
        "id": "c1v23AJSRyqb",
        "colab_type": "code",
        "colab": {
          "base_uri": "https://localhost:8080/",
          "height": 204
        },
        "outputId": "d5075f22-7547-4140-a9a5-61dc878a7cb9"
      },
      "source": [
        "cifar.test()\n",
        "cifar.class_accuracy()"
      ],
      "execution_count": 7,
      "outputs": [
        {
          "output_type": "stream",
          "text": [
            "Accuracy of the network on the 10000 test images: 78 %\n",
            "Accuracy of plane : 83 %\n",
            "Accuracy of   car : 86 %\n",
            "Accuracy of  bird : 66 %\n",
            "Accuracy of   cat : 57 %\n",
            "Accuracy of  deer : 75 %\n",
            "Accuracy of   dog : 72 %\n",
            "Accuracy of  frog : 82 %\n",
            "Accuracy of horse : 81 %\n",
            "Accuracy of  ship : 86 %\n",
            "Accuracy of truck : 88 %\n"
          ],
          "name": "stdout"
        }
      ]
    }
  ]
}