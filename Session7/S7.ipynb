{
  "nbformat": 4,
  "nbformat_minor": 0,
  "metadata": {
    "kernelspec": {
      "name": "python3",
      "display_name": "Python 3"
    },
    "language_info": {
      "codemirror_mode": {
        "name": "ipython",
        "version": 3
      },
      "file_extension": ".py",
      "mimetype": "text/x-python",
      "name": "python",
      "nbconvert_exporter": "python",
      "pygments_lexer": "ipython3",
      "version": "3.6.6"
    },
    "colab": {
      "name": "EVA5_Session7.ipynb",
      "provenance": [],
      "collapsed_sections": [],
      "toc_visible": true
    },
    "accelerator": "GPU",
    "widgets": {
      "application/vnd.jupyter.widget-state+json": {
        "fd751131877f46f2b2e7373a2bf6680e": {
          "model_module": "@jupyter-widgets/controls",
          "model_name": "HBoxModel",
          "state": {
            "_view_name": "HBoxView",
            "_dom_classes": [],
            "_model_name": "HBoxModel",
            "_view_module": "@jupyter-widgets/controls",
            "_model_module_version": "1.5.0",
            "_view_count": null,
            "_view_module_version": "1.5.0",
            "box_style": "",
            "layout": "IPY_MODEL_278727504a2a4415bc0706f2db773198",
            "_model_module": "@jupyter-widgets/controls",
            "children": [
              "IPY_MODEL_623a45c0c2914e0dbf12bf5a9758ea71",
              "IPY_MODEL_96dfb608f5dc4346b1c213793e9ec573"
            ]
          }
        },
        "278727504a2a4415bc0706f2db773198": {
          "model_module": "@jupyter-widgets/base",
          "model_name": "LayoutModel",
          "state": {
            "_view_name": "LayoutView",
            "grid_template_rows": null,
            "right": null,
            "justify_content": null,
            "_view_module": "@jupyter-widgets/base",
            "overflow": null,
            "_model_module_version": "1.2.0",
            "_view_count": null,
            "flex_flow": null,
            "width": null,
            "min_width": null,
            "border": null,
            "align_items": null,
            "bottom": null,
            "_model_module": "@jupyter-widgets/base",
            "top": null,
            "grid_column": null,
            "overflow_y": null,
            "overflow_x": null,
            "grid_auto_flow": null,
            "grid_area": null,
            "grid_template_columns": null,
            "flex": null,
            "_model_name": "LayoutModel",
            "justify_items": null,
            "grid_row": null,
            "max_height": null,
            "align_content": null,
            "visibility": null,
            "align_self": null,
            "height": null,
            "min_height": null,
            "padding": null,
            "grid_auto_rows": null,
            "grid_gap": null,
            "max_width": null,
            "order": null,
            "_view_module_version": "1.2.0",
            "grid_template_areas": null,
            "object_position": null,
            "object_fit": null,
            "grid_auto_columns": null,
            "margin": null,
            "display": null,
            "left": null
          }
        },
        "623a45c0c2914e0dbf12bf5a9758ea71": {
          "model_module": "@jupyter-widgets/controls",
          "model_name": "FloatProgressModel",
          "state": {
            "_view_name": "ProgressView",
            "style": "IPY_MODEL_fb67f4eb68c740caaa92dee8b1ed138b",
            "_dom_classes": [],
            "description": "",
            "_model_name": "FloatProgressModel",
            "bar_style": "success",
            "max": 1,
            "_view_module": "@jupyter-widgets/controls",
            "_model_module_version": "1.5.0",
            "value": 1,
            "_view_count": null,
            "_view_module_version": "1.5.0",
            "orientation": "horizontal",
            "min": 0,
            "description_tooltip": null,
            "_model_module": "@jupyter-widgets/controls",
            "layout": "IPY_MODEL_71cb665301a749ac82923176b30a99c3"
          }
        },
        "96dfb608f5dc4346b1c213793e9ec573": {
          "model_module": "@jupyter-widgets/controls",
          "model_name": "HTMLModel",
          "state": {
            "_view_name": "HTMLView",
            "style": "IPY_MODEL_771b2e280e144c96a382deb8160a5afd",
            "_dom_classes": [],
            "description": "",
            "_model_name": "HTMLModel",
            "placeholder": "​",
            "_view_module": "@jupyter-widgets/controls",
            "_model_module_version": "1.5.0",
            "value": " 170500096/? [00:07&lt;00:00, 22895866.98it/s]",
            "_view_count": null,
            "_view_module_version": "1.5.0",
            "description_tooltip": null,
            "_model_module": "@jupyter-widgets/controls",
            "layout": "IPY_MODEL_6e895a88f3f445b8af0402fa6d16391b"
          }
        },
        "fb67f4eb68c740caaa92dee8b1ed138b": {
          "model_module": "@jupyter-widgets/controls",
          "model_name": "ProgressStyleModel",
          "state": {
            "_view_name": "StyleView",
            "_model_name": "ProgressStyleModel",
            "description_width": "initial",
            "_view_module": "@jupyter-widgets/base",
            "_model_module_version": "1.5.0",
            "_view_count": null,
            "_view_module_version": "1.2.0",
            "bar_color": null,
            "_model_module": "@jupyter-widgets/controls"
          }
        },
        "71cb665301a749ac82923176b30a99c3": {
          "model_module": "@jupyter-widgets/base",
          "model_name": "LayoutModel",
          "state": {
            "_view_name": "LayoutView",
            "grid_template_rows": null,
            "right": null,
            "justify_content": null,
            "_view_module": "@jupyter-widgets/base",
            "overflow": null,
            "_model_module_version": "1.2.0",
            "_view_count": null,
            "flex_flow": null,
            "width": null,
            "min_width": null,
            "border": null,
            "align_items": null,
            "bottom": null,
            "_model_module": "@jupyter-widgets/base",
            "top": null,
            "grid_column": null,
            "overflow_y": null,
            "overflow_x": null,
            "grid_auto_flow": null,
            "grid_area": null,
            "grid_template_columns": null,
            "flex": null,
            "_model_name": "LayoutModel",
            "justify_items": null,
            "grid_row": null,
            "max_height": null,
            "align_content": null,
            "visibility": null,
            "align_self": null,
            "height": null,
            "min_height": null,
            "padding": null,
            "grid_auto_rows": null,
            "grid_gap": null,
            "max_width": null,
            "order": null,
            "_view_module_version": "1.2.0",
            "grid_template_areas": null,
            "object_position": null,
            "object_fit": null,
            "grid_auto_columns": null,
            "margin": null,
            "display": null,
            "left": null
          }
        },
        "771b2e280e144c96a382deb8160a5afd": {
          "model_module": "@jupyter-widgets/controls",
          "model_name": "DescriptionStyleModel",
          "state": {
            "_view_name": "StyleView",
            "_model_name": "DescriptionStyleModel",
            "description_width": "",
            "_view_module": "@jupyter-widgets/base",
            "_model_module_version": "1.5.0",
            "_view_count": null,
            "_view_module_version": "1.2.0",
            "_model_module": "@jupyter-widgets/controls"
          }
        },
        "6e895a88f3f445b8af0402fa6d16391b": {
          "model_module": "@jupyter-widgets/base",
          "model_name": "LayoutModel",
          "state": {
            "_view_name": "LayoutView",
            "grid_template_rows": null,
            "right": null,
            "justify_content": null,
            "_view_module": "@jupyter-widgets/base",
            "overflow": null,
            "_model_module_version": "1.2.0",
            "_view_count": null,
            "flex_flow": null,
            "width": null,
            "min_width": null,
            "border": null,
            "align_items": null,
            "bottom": null,
            "_model_module": "@jupyter-widgets/base",
            "top": null,
            "grid_column": null,
            "overflow_y": null,
            "overflow_x": null,
            "grid_auto_flow": null,
            "grid_area": null,
            "grid_template_columns": null,
            "flex": null,
            "_model_name": "LayoutModel",
            "justify_items": null,
            "grid_row": null,
            "max_height": null,
            "align_content": null,
            "visibility": null,
            "align_self": null,
            "height": null,
            "min_height": null,
            "padding": null,
            "grid_auto_rows": null,
            "grid_gap": null,
            "max_width": null,
            "order": null,
            "_view_module_version": "1.2.0",
            "grid_template_areas": null,
            "object_position": null,
            "object_fit": null,
            "grid_auto_columns": null,
            "margin": null,
            "display": null,
            "left": null
          }
        }
      }
    }
  },
  "cells": [
    {
      "cell_type": "markdown",
      "metadata": {
        "id": "fPogbueepoCh",
        "colab_type": "text"
      },
      "source": [
        "\n",
        "EVA 5 Session 7\n",
        "=====================\n"
      ]
    },
    {
      "cell_type": "markdown",
      "metadata": {
        "id": "JcMskAyy1GWw",
        "colab_type": "text"
      },
      "source": [
        "## Cloning the reqiured module from GitHub."
      ]
    },
    {
      "cell_type": "code",
      "metadata": {
        "id": "1shS1vYEQCh_",
        "colab_type": "code",
        "colab": {
          "base_uri": "https://localhost:8080/",
          "height": 136
        },
        "outputId": "58b87929-be49-4684-98fa-45b36dd521e6"
      },
      "source": [
        "!git clone \"https://github.com/sahalk/eva.git\""
      ],
      "execution_count": 1,
      "outputs": [
        {
          "output_type": "stream",
          "text": [
            "Cloning into 'eva'...\n",
            "remote: Enumerating objects: 129, done.\u001b[K\n",
            "remote: Counting objects: 100% (129/129), done.\u001b[K\n",
            "remote: Compressing objects: 100% (99/99), done.\u001b[K\n",
            "remote: Total 129 (delta 65), reused 85 (delta 27), pack-reused 0\u001b[K\n",
            "Receiving objects: 100% (129/129), 1.47 MiB | 29.56 MiB/s, done.\n",
            "Resolving deltas: 100% (65/65), done.\n"
          ],
          "name": "stdout"
        }
      ]
    },
    {
      "cell_type": "markdown",
      "metadata": {
        "id": "LuYKwEO81TSh",
        "colab_type": "text"
      },
      "source": [
        "## Import the Network and the APIs required."
      ]
    },
    {
      "cell_type": "code",
      "metadata": {
        "id": "SOW3FnJeRe6p",
        "colab_type": "code",
        "colab": {}
      },
      "source": [
        "from eva.Session7.model import Net, Loader"
      ],
      "execution_count": 2,
      "outputs": []
    },
    {
      "cell_type": "markdown",
      "metadata": {
        "id": "vylfX_eU1XTD",
        "colab_type": "text"
      },
      "source": [
        "## Leading the CIFAR-10 dataset."
      ]
    },
    {
      "cell_type": "code",
      "metadata": {
        "id": "bTpe5pIDEhrM",
        "colab_type": "code",
        "colab": {
          "base_uri": "https://localhost:8080/",
          "height": 100,
          "referenced_widgets": [
            "fd751131877f46f2b2e7373a2bf6680e",
            "278727504a2a4415bc0706f2db773198",
            "623a45c0c2914e0dbf12bf5a9758ea71",
            "96dfb608f5dc4346b1c213793e9ec573",
            "fb67f4eb68c740caaa92dee8b1ed138b",
            "71cb665301a749ac82923176b30a99c3",
            "771b2e280e144c96a382deb8160a5afd",
            "6e895a88f3f445b8af0402fa6d16391b"
          ]
        },
        "outputId": "59f2419e-c2bd-4bb0-f6c3-ba13fe26990a"
      },
      "source": [
        "data_mean = (0.4914, 0.4822, 0.4465)\n",
        "data_std_dev = (0.2470, 0.2435, 0.2616)\n",
        "\n",
        "cifar = Loader(data_mean, data_std_dev)"
      ],
      "execution_count": 3,
      "outputs": [
        {
          "output_type": "stream",
          "text": [
            "Downloading https://www.cs.toronto.edu/~kriz/cifar-10-python.tar.gz to ./data/cifar-10-python.tar.gz\n"
          ],
          "name": "stdout"
        },
        {
          "output_type": "display_data",
          "data": {
            "application/vnd.jupyter.widget-view+json": {
              "model_id": "fd751131877f46f2b2e7373a2bf6680e",
              "version_minor": 0,
              "version_major": 2
            },
            "text/plain": [
              "HBox(children=(FloatProgress(value=1.0, bar_style='info', max=1.0), HTML(value='')))"
            ]
          },
          "metadata": {
            "tags": []
          }
        },
        {
          "output_type": "stream",
          "text": [
            "Extracting ./data/cifar-10-python.tar.gz to ./data\n",
            "Files already downloaded and verified\n"
          ],
          "name": "stdout"
        }
      ]
    },
    {
      "cell_type": "markdown",
      "metadata": {
        "id": "-jV67mMP1asU",
        "colab_type": "text"
      },
      "source": [
        "## Displaying the images"
      ]
    },
    {
      "cell_type": "code",
      "metadata": {
        "id": "q8fovrR7DFKx",
        "colab_type": "code",
        "colab": {
          "base_uri": "https://localhost:8080/",
          "height": 189
        },
        "outputId": "8777fc45-eaf8-469a-8634-4c1ef42ac501"
      },
      "source": [
        "cifar.disp_image(cifar.trainloader)"
      ],
      "execution_count": 4,
      "outputs": [
        {
          "output_type": "stream",
          "text": [
            "Clipping input data to the valid range for imshow with RGB data ([0..1] for floats or [0..255] for integers).\n"
          ],
          "name": "stderr"
        },
        {
          "output_type": "stream",
          "text": [
            " bird plane truck  bird\n",
            "\n"
          ],
          "name": "stdout"
        },
        {
          "output_type": "display_data",
          "data": {
            "image/png": "[encoded data removed]",
            "text/plain": [
              "<Figure size 432x288 with 1 Axes>"
            ]
          },
          "metadata": {
            "tags": [],
            "needs_background": "light"
          }
        }
      ]
    },
    {
      "cell_type": "markdown",
      "metadata": {
        "id": "ddV-WPMC1d3i",
        "colab_type": "text"
      },
      "source": [
        "## Printing the model summary"
      ]
    },
    {
      "cell_type": "code",
      "metadata": {
        "id": "UixuZ3-iPPIi",
        "colab_type": "code",
        "colab": {
          "base_uri": "https://localhost:8080/",
          "height": 765
        },
        "outputId": "a073253d-2542-42a2-ebc5-d064d7a6a62a"
      },
      "source": [
        "cifar.print_sum()"
      ],
      "execution_count": 5,
      "outputs": [
        {
          "output_type": "stream",
          "text": [
            "----------------------------------------------------------------\n",
            "        Layer (type)               Output Shape         Param #\n",
            "================================================================\n",
            "            Conv2d-1           [-1, 64, 32, 32]           1,728\n",
            "              ReLU-2           [-1, 64, 32, 32]               0\n",
            "       BatchNorm2d-3           [-1, 64, 32, 32]             128\n",
            "         MaxPool2d-4           [-1, 64, 16, 16]               0\n",
            "            Conv2d-5          [-1, 128, 18, 18]           8,192\n",
            "              ReLU-6          [-1, 128, 18, 18]               0\n",
            "       BatchNorm2d-7          [-1, 128, 18, 18]             256\n",
            "            Conv2d-8          [-1, 256, 18, 18]         294,912\n",
            "              ReLU-9          [-1, 256, 18, 18]               0\n",
            "      BatchNorm2d-10          [-1, 256, 18, 18]             512\n",
            "        MaxPool2d-11            [-1, 256, 9, 9]               0\n",
            "           Conv2d-12          [-1, 256, 11, 11]          65,536\n",
            "             ReLU-13          [-1, 256, 11, 11]               0\n",
            "      BatchNorm2d-14          [-1, 256, 11, 11]             512\n",
            "           Conv2d-15          [-1, 256, 11, 11]           2,304\n",
            "           Conv2d-16          [-1, 256, 11, 11]          65,536\n",
            "             ReLU-17          [-1, 256, 11, 11]               0\n",
            "      BatchNorm2d-18          [-1, 256, 11, 11]             512\n",
            "        MaxPool2d-19            [-1, 256, 5, 5]               0\n",
            "           Conv2d-20            [-1, 256, 7, 7]          65,536\n",
            "             ReLU-21            [-1, 256, 7, 7]               0\n",
            "      BatchNorm2d-22            [-1, 256, 7, 7]             512\n",
            "           Conv2d-23            [-1, 256, 7, 7]           2,304\n",
            "           Conv2d-24            [-1, 256, 7, 7]          65,536\n",
            "             ReLU-25            [-1, 256, 7, 7]               0\n",
            "      BatchNorm2d-26            [-1, 256, 7, 7]             512\n",
            "           Conv2d-27            [-1, 512, 7, 7]         131,072\n",
            "             ReLU-28            [-1, 512, 7, 7]               0\n",
            "      BatchNorm2d-29            [-1, 512, 7, 7]           1,024\n",
            "        AvgPool2d-30            [-1, 512, 1, 1]               0\n",
            "           Conv2d-31             [-1, 10, 1, 1]           5,120\n",
            "================================================================\n",
            "Total params: 711,744\n",
            "Trainable params: 711,744\n",
            "Non-trainable params: 0\n",
            "----------------------------------------------------------------\n",
            "Input size (MB): 0.01\n",
            "Forward/backward pass size (MB): 7.58\n",
            "Params size (MB): 2.72\n",
            "Estimated Total Size (MB): 10.31\n",
            "----------------------------------------------------------------\n"
          ],
          "name": "stdout"
        }
      ]
    },
    {
      "cell_type": "markdown",
      "metadata": {
        "id": "ycKVZcGE1h0F",
        "colab_type": "text"
      },
      "source": [
        "## Training the Network"
      ]
    },
    {
      "cell_type": "code",
      "metadata": {
        "id": "if7oCcgqPgvB",
        "colab_type": "code",
        "colab": {
          "base_uri": "https://localhost:8080/",
          "height": 1000
        },
        "outputId": "98dd5c00-1229-42c3-f841-0387e73fbbdd"
      },
      "source": [
        "learning_rate = 0.01\n",
        "momentum = 0.9\n",
        "epoch = 20\n",
        "\n",
        "cifar.train(epoch, learning_rate, learning_rate)"
      ],
      "execution_count": 6,
      "outputs": [
        {
          "output_type": "stream",
          "text": [
            "\r  0%|          | 0/12500 [00:00<?, ?it/s]"
          ],
          "name": "stderr"
        },
        {
          "output_type": "stream",
          "text": [
            "EPOCH: 0\n"
          ],
          "name": "stdout"
        },
        {
          "output_type": "stream",
          "text": [
            "Loss=0.5872228145599365 Batch_id=12499 Accuracy=51.53: 100%|██████████| 12500/12500 [02:11<00:00, 95.33it/s]\n",
            "100%|██████████| 2500/2500 [00:09<00:00, 251.36it/s]\n",
            "  0%|          | 0/12500 [00:00<?, ?it/s]"
          ],
          "name": "stderr"
        },
        {
          "output_type": "stream",
          "text": [
            "\n",
            "Test set: Average loss: 0.9996, Accuracy: 6502/10000 (65.02%)\n",
            "\n",
            "EPOCH: 1\n"
          ],
          "name": "stdout"
        },
        {
          "output_type": "stream",
          "text": [
            "Loss=2.492776870727539 Batch_id=12499 Accuracy=67.60: 100%|██████████| 12500/12500 [02:12<00:00, 94.30it/s]\n",
            "100%|██████████| 2500/2500 [00:10<00:00, 243.84it/s]\n",
            "  0%|          | 0/12500 [00:00<?, ?it/s]"
          ],
          "name": "stderr"
        },
        {
          "output_type": "stream",
          "text": [
            "\n",
            "Test set: Average loss: 0.8827, Accuracy: 7032/10000 (70.32%)\n",
            "\n",
            "EPOCH: 2\n"
          ],
          "name": "stdout"
        },
        {
          "output_type": "stream",
          "text": [
            "Loss=0.44120267033576965 Batch_id=12499 Accuracy=73.65: 100%|██████████| 12500/12500 [02:14<00:00, 92.78it/s]\n",
            "100%|██████████| 2500/2500 [00:10<00:00, 243.44it/s]\n",
            "  0%|          | 0/12500 [00:00<?, ?it/s]"
          ],
          "name": "stderr"
        },
        {
          "output_type": "stream",
          "text": [
            "\n",
            "Test set: Average loss: 0.7665, Accuracy: 7407/10000 (74.07%)\n",
            "\n",
            "EPOCH: 3\n"
          ],
          "name": "stdout"
        },
        {
          "output_type": "stream",
          "text": [
            "Loss=0.18383903801441193 Batch_id=12499 Accuracy=77.63: 100%|██████████| 12500/12500 [02:15<00:00, 92.58it/s]\n",
            "100%|██████████| 2500/2500 [00:09<00:00, 250.08it/s]\n",
            "  0%|          | 0/12500 [00:00<?, ?it/s]"
          ],
          "name": "stderr"
        },
        {
          "output_type": "stream",
          "text": [
            "\n",
            "Test set: Average loss: 0.7164, Accuracy: 7529/10000 (75.29%)\n",
            "\n",
            "EPOCH: 4\n"
          ],
          "name": "stdout"
        },
        {
          "output_type": "stream",
          "text": [
            "Loss=0.035949744284152985 Batch_id=12499 Accuracy=80.56: 100%|██████████| 12500/12500 [02:14<00:00, 93.28it/s]\n",
            "100%|██████████| 2500/2500 [00:10<00:00, 241.29it/s]\n",
            "  0%|          | 0/12500 [00:00<?, ?it/s]"
          ],
          "name": "stderr"
        },
        {
          "output_type": "stream",
          "text": [
            "\n",
            "Test set: Average loss: 0.6690, Accuracy: 7750/10000 (77.50%)\n",
            "\n",
            "EPOCH: 5\n"
          ],
          "name": "stdout"
        },
        {
          "output_type": "stream",
          "text": [
            "Loss=0.0226593054831028 Batch_id=12499 Accuracy=82.79: 100%|██████████| 12500/12500 [02:13<00:00, 93.50it/s]\n",
            "100%|██████████| 2500/2500 [00:10<00:00, 241.62it/s]\n",
            "  0%|          | 0/12500 [00:00<?, ?it/s]"
          ],
          "name": "stderr"
        },
        {
          "output_type": "stream",
          "text": [
            "\n",
            "Test set: Average loss: 0.7030, Accuracy: 7733/10000 (77.33%)\n",
            "\n",
            "EPOCH: 6\n"
          ],
          "name": "stdout"
        },
        {
          "output_type": "stream",
          "text": [
            "Loss=1.0097304582595825 Batch_id=12499 Accuracy=84.87: 100%|██████████| 12500/12500 [02:14<00:00, 92.64it/s]\n",
            "100%|██████████| 2500/2500 [00:10<00:00, 237.07it/s]\n",
            "  0%|          | 0/12500 [00:00<?, ?it/s]"
          ],
          "name": "stderr"
        },
        {
          "output_type": "stream",
          "text": [
            "\n",
            "Test set: Average loss: 0.6977, Accuracy: 7743/10000 (77.43%)\n",
            "\n",
            "EPOCH: 7\n"
          ],
          "name": "stdout"
        },
        {
          "output_type": "stream",
          "text": [
            "Loss=0.013853675685822964 Batch_id=12499 Accuracy=86.47: 100%|██████████| 12500/12500 [02:14<00:00, 92.72it/s]\n",
            "100%|██████████| 2500/2500 [00:10<00:00, 243.03it/s]\n",
            "  0%|          | 0/12500 [00:00<?, ?it/s]"
          ],
          "name": "stderr"
        },
        {
          "output_type": "stream",
          "text": [
            "\n",
            "Test set: Average loss: 0.6508, Accuracy: 7943/10000 (79.43%)\n",
            "\n",
            "EPOCH: 8\n"
          ],
          "name": "stdout"
        },
        {
          "output_type": "stream",
          "text": [
            "Loss=0.017747201025485992 Batch_id=12499 Accuracy=88.19: 100%|██████████| 12500/12500 [02:15<00:00, 92.24it/s]\n",
            "100%|██████████| 2500/2500 [00:11<00:00, 223.82it/s]\n",
            "  0%|          | 0/12500 [00:00<?, ?it/s]"
          ],
          "name": "stderr"
        },
        {
          "output_type": "stream",
          "text": [
            "\n",
            "Test set: Average loss: 0.6702, Accuracy: 7939/10000 (79.39%)\n",
            "\n",
            "EPOCH: 9\n"
          ],
          "name": "stdout"
        },
        {
          "output_type": "stream",
          "text": [
            "Loss=0.3215223252773285 Batch_id=12499 Accuracy=89.43: 100%|██████████| 12500/12500 [02:12<00:00, 94.60it/s]\n",
            "100%|██████████| 2500/2500 [00:10<00:00, 243.92it/s]\n",
            "  0%|          | 0/12500 [00:00<?, ?it/s]"
          ],
          "name": "stderr"
        },
        {
          "output_type": "stream",
          "text": [
            "\n",
            "Test set: Average loss: 0.6739, Accuracy: 7931/10000 (79.31%)\n",
            "\n",
            "EPOCH: 10\n"
          ],
          "name": "stdout"
        },
        {
          "output_type": "stream",
          "text": [
            "Loss=0.17707499861717224 Batch_id=12499 Accuracy=90.70: 100%|██████████| 12500/12500 [02:12<00:00, 94.06it/s]\n",
            "100%|██████████| 2500/2500 [00:10<00:00, 230.64it/s]\n",
            "  0%|          | 0/12500 [00:00<?, ?it/s]"
          ],
          "name": "stderr"
        },
        {
          "output_type": "stream",
          "text": [
            "\n",
            "Test set: Average loss: 0.6969, Accuracy: 7977/10000 (79.77%)\n",
            "\n",
            "EPOCH: 11\n"
          ],
          "name": "stdout"
        },
        {
          "output_type": "stream",
          "text": [
            "Loss=0.08594564348459244 Batch_id=12499 Accuracy=91.55: 100%|██████████| 12500/12500 [02:13<00:00, 93.44it/s]\n",
            "100%|██████████| 2500/2500 [00:10<00:00, 231.87it/s]\n",
            "  0%|          | 0/12500 [00:00<?, ?it/s]"
          ],
          "name": "stderr"
        },
        {
          "output_type": "stream",
          "text": [
            "\n",
            "Test set: Average loss: 0.7248, Accuracy: 7994/10000 (79.94%)\n",
            "\n",
            "EPOCH: 12\n"
          ],
          "name": "stdout"
        },
        {
          "output_type": "stream",
          "text": [
            "Loss=0.018259834498167038 Batch_id=12499 Accuracy=92.67: 100%|██████████| 12500/12500 [02:13<00:00, 93.49it/s]\n",
            "100%|██████████| 2500/2500 [00:10<00:00, 248.71it/s]\n",
            "  0%|          | 0/12500 [00:00<?, ?it/s]"
          ],
          "name": "stderr"
        },
        {
          "output_type": "stream",
          "text": [
            "\n",
            "Test set: Average loss: 0.7188, Accuracy: 8029/10000 (80.29%)\n",
            "\n",
            "EPOCH: 13\n"
          ],
          "name": "stdout"
        },
        {
          "output_type": "stream",
          "text": [
            "Loss=0.5162433385848999 Batch_id=12499 Accuracy=93.64: 100%|██████████| 12500/12500 [02:10<00:00, 95.57it/s]\n",
            "100%|██████████| 2500/2500 [00:10<00:00, 243.40it/s]\n",
            "  0%|          | 0/12500 [00:00<?, ?it/s]"
          ],
          "name": "stderr"
        },
        {
          "output_type": "stream",
          "text": [
            "\n",
            "Test set: Average loss: 0.7261, Accuracy: 8068/10000 (80.68%)\n",
            "\n",
            "EPOCH: 14\n"
          ],
          "name": "stdout"
        },
        {
          "output_type": "stream",
          "text": [
            "Loss=0.9900370836257935 Batch_id=12499 Accuracy=93.94: 100%|██████████| 12500/12500 [02:10<00:00, 96.15it/s] \n",
            "100%|██████████| 2500/2500 [00:10<00:00, 244.40it/s]\n",
            "  0%|          | 0/12500 [00:00<?, ?it/s]"
          ],
          "name": "stderr"
        },
        {
          "output_type": "stream",
          "text": [
            "\n",
            "Test set: Average loss: 0.7472, Accuracy: 8088/10000 (80.88%)\n",
            "\n",
            "EPOCH: 15\n"
          ],
          "name": "stdout"
        },
        {
          "output_type": "stream",
          "text": [
            "Loss=0.24246591329574585 Batch_id=12499 Accuracy=94.68: 100%|██████████| 12500/12500 [02:10<00:00, 95.89it/s]\n",
            "100%|██████████| 2500/2500 [00:10<00:00, 246.50it/s]\n",
            "  0%|          | 0/12500 [00:00<?, ?it/s]"
          ],
          "name": "stderr"
        },
        {
          "output_type": "stream",
          "text": [
            "\n",
            "Test set: Average loss: 0.7780, Accuracy: 8033/10000 (80.33%)\n",
            "\n",
            "EPOCH: 16\n"
          ],
          "name": "stdout"
        },
        {
          "output_type": "stream",
          "text": [
            "Loss=0.0007663902943022549 Batch_id=12499 Accuracy=95.12: 100%|██████████| 12500/12500 [02:08<00:00, 97.47it/s]\n",
            "100%|██████████| 2500/2500 [00:09<00:00, 254.41it/s]\n",
            "  0%|          | 0/12500 [00:00<?, ?it/s]"
          ],
          "name": "stderr"
        },
        {
          "output_type": "stream",
          "text": [
            "\n",
            "Test set: Average loss: 0.7843, Accuracy: 8064/10000 (80.64%)\n",
            "\n",
            "EPOCH: 17\n"
          ],
          "name": "stdout"
        },
        {
          "output_type": "stream",
          "text": [
            "Loss=0.012438295409083366 Batch_id=12499 Accuracy=95.77: 100%|██████████| 12500/12500 [02:09<00:00, 96.22it/s] \n",
            "100%|██████████| 2500/2500 [00:10<00:00, 248.44it/s]\n",
            "  0%|          | 0/12500 [00:00<?, ?it/s]"
          ],
          "name": "stderr"
        },
        {
          "output_type": "stream",
          "text": [
            "\n",
            "Test set: Average loss: 0.8133, Accuracy: 8077/10000 (80.77%)\n",
            "\n",
            "EPOCH: 18\n"
          ],
          "name": "stdout"
        },
        {
          "output_type": "stream",
          "text": [
            "Loss=0.002056185621768236 Batch_id=12499 Accuracy=96.10: 100%|██████████| 12500/12500 [02:12<00:00, 94.47it/s]\n",
            "100%|██████████| 2500/2500 [00:09<00:00, 251.04it/s]\n",
            "  0%|          | 0/12500 [00:00<?, ?it/s]"
          ],
          "name": "stderr"
        },
        {
          "output_type": "stream",
          "text": [
            "\n",
            "Test set: Average loss: 0.8671, Accuracy: 8092/10000 (80.92%)\n",
            "\n",
            "EPOCH: 19\n"
          ],
          "name": "stdout"
        },
        {
          "output_type": "stream",
          "text": [
            "Loss=1.6647075414657593 Batch_id=12499 Accuracy=96.21: 100%|██████████| 12500/12500 [02:12<00:00, 94.41it/s]\n",
            "100%|██████████| 2500/2500 [00:10<00:00, 242.82it/s]"
          ],
          "name": "stderr"
        },
        {
          "output_type": "stream",
          "text": [
            "\n",
            "Test set: Average loss: 0.9108, Accuracy: 7965/10000 (79.65%)\n",
            "\n"
          ],
          "name": "stdout"
        },
        {
          "output_type": "stream",
          "text": [
            "\n"
          ],
          "name": "stderr"
        }
      ]
    },
    {
      "cell_type": "markdown",
      "metadata": {
        "id": "P5yQ7fEO1k73",
        "colab_type": "text"
      },
      "source": [
        "## Testing the accuracy of the network and the accuracy of each class."
      ]
    }
  ]
}