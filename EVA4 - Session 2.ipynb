{
 "cells": [
  {
   "cell_type": "code",
   "execution_count": 3,
   "metadata": {
    "colab": {},
    "colab_type": "code",
    "executionInfo": {
     "elapsed": 5606,
     "status": "ok",
     "timestamp": 1597484362471,
     "user": {
      "displayName": "Sahal Kadankandy",
      "photoUrl": "https://lh6.googleusercontent.com/-O_5s3RAo54U/AAAAAAAAAAI/AAAAAAAAbcA/USBLsWSiYBg/s64/photo.jpg",
      "userId": "09339837886741046045"
     },
     "user_tz": -600
    },
    "id": "0m2JWFliFfKT"
   },
   "outputs": [],
   "source": [
    "from __future__ import print_function\n",
    "import torch\n",
    "import torch.nn as nn\n",
    "import torch.nn.functional as F\n",
    "import torch.optim as optim\n",
    "from torchvision import datasets, transforms"
   ]
  },
  {
   "cell_type": "code",
   "execution_count": 8,
   "metadata": {
    "colab": {},
    "colab_type": "code",
    "executionInfo": {
     "elapsed": 804,
     "status": "ok",
     "timestamp": 1597484523927,
     "user": {
      "displayName": "Sahal Kadankandy",
      "photoUrl": "https://lh6.googleusercontent.com/-O_5s3RAo54U/AAAAAAAAAAI/AAAAAAAAbcA/USBLsWSiYBg/s64/photo.jpg",
      "userId": "09339837886741046045"
     },
     "user_tz": -600
    },
    "id": "h_Cx9q2QFgM7"
   },
   "outputs": [],
   "source": [
    "class Net(nn.Module):\n",
    "    def __init__(self):\n",
    "        super(Net, self).__init__()\n",
    "        self.conv1 = nn.Conv2d(1,8, 3, padding=1) \n",
    "        self.bnorm1 = nn.BatchNorm2d(8)\n",
    "\n",
    "        self.conv2 = nn.Conv2d(8,8, 3, padding=1)\n",
    "        self.bnorm2 = nn.BatchNorm2d(8)\n",
    "\n",
    "        self.pool1 = nn.MaxPool2d(2, 2)\n",
    "\n",
    "        self.conv3 = nn.Conv2d(8, 16, 3, padding=1)\n",
    "        self.bnorm3 = nn.BatchNorm2d(16)\n",
    "\n",
    "        self.conv4 = nn.Conv2d(16, 16, 3, padding=1)\n",
    "        self.bnorm4 = nn.BatchNorm2d(16)\n",
    "\n",
    "        self.conv5 = nn.Conv2d(16, 16, 3, padding=1)\n",
    "        self.bnorm5 = nn.BatchNorm2d(16)\n",
    "\n",
    "        self.pool2 = nn.MaxPool2d(2, 2)\n",
    "\n",
    "        self.conv6 = nn.Conv2d(16, 32, 3)\n",
    "        self.bnorm6 = nn.BatchNorm2d(32)\n",
    "        \n",
    "        self.conv7 = nn.Conv2d(32, 10, 3)\n",
    "        self.dropout = nn.Dropout(0.2)\n",
    "        self.aap = nn.AdaptiveAvgPool2d((1,1))\n",
    "\n",
    "    def forward(self, x):\n",
    "        x = self.pool1(self.bnorm2(F.relu(self.conv2(self.bnorm1(F.relu(self.conv1(x)))))))\n",
    "        x = self.dropout(x)\n",
    "        x = self.bnorm4(F.relu(self.conv4(self.bnorm3(F.relu(self.conv3(x))))))\n",
    "        x = self.pool2((self.bnorm5(F.relu(self.conv5(x)))))\n",
    "        x = self.dropout(x)\n",
    "        x = self.bnorm6(F.relu(self.conv6(x)))\n",
    "        x = self.conv7(x)\n",
    "        x = self.dropout(x)\n",
    "        x = self.aap(x)\n",
    "        x = x.view(-1, 10)\n",
    "        return F.log_softmax(x)"
   ]
  },
  {
   "cell_type": "code",
   "execution_count": 9,
   "metadata": {
    "colab": {
     "base_uri": "https://localhost:8080/",
     "height": 615
    },
    "colab_type": "code",
    "executionInfo": {
     "elapsed": 4105,
     "status": "ok",
     "timestamp": 1597484531110,
     "user": {
      "displayName": "Sahal Kadankandy",
      "photoUrl": "https://lh6.googleusercontent.com/-O_5s3RAo54U/AAAAAAAAAAI/AAAAAAAAbcA/USBLsWSiYBg/s64/photo.jpg",
      "userId": "09339837886741046045"
     },
     "user_tz": -600
    },
    "id": "xdydjYTZFyi3",
    "outputId": "5687ae1a-e170-427a-d2d2-8edd2fcae44b"
   },
   "outputs": [
    {
     "name": "stdout",
     "output_type": "stream",
     "text": [
      "Requirement already satisfied: torchsummary in /usr/local/lib/python3.6/dist-packages (1.5.1)\n",
      "----------------------------------------------------------------\n",
      "        Layer (type)               Output Shape         Param #\n",
      "================================================================\n",
      "            Conv2d-1            [-1, 8, 28, 28]              80\n",
      "       BatchNorm2d-2            [-1, 8, 28, 28]              16\n",
      "            Conv2d-3            [-1, 8, 28, 28]             584\n",
      "       BatchNorm2d-4            [-1, 8, 28, 28]              16\n",
      "         MaxPool2d-5            [-1, 8, 14, 14]               0\n",
      "           Dropout-6            [-1, 8, 14, 14]               0\n",
      "            Conv2d-7           [-1, 16, 14, 14]           1,168\n",
      "       BatchNorm2d-8           [-1, 16, 14, 14]              32\n",
      "            Conv2d-9           [-1, 16, 14, 14]           2,320\n",
      "      BatchNorm2d-10           [-1, 16, 14, 14]              32\n",
      "           Conv2d-11           [-1, 16, 14, 14]           2,320\n",
      "      BatchNorm2d-12           [-1, 16, 14, 14]              32\n",
      "        MaxPool2d-13             [-1, 16, 7, 7]               0\n",
      "          Dropout-14             [-1, 16, 7, 7]               0\n",
      "           Conv2d-15             [-1, 32, 5, 5]           4,640\n",
      "      BatchNorm2d-16             [-1, 32, 5, 5]              64\n",
      "           Conv2d-17             [-1, 10, 3, 3]           2,890\n",
      "          Dropout-18             [-1, 10, 3, 3]               0\n",
      "AdaptiveAvgPool2d-19             [-1, 10, 1, 1]               0\n",
      "================================================================\n",
      "Total params: 14,194\n",
      "Trainable params: 14,194\n",
      "Non-trainable params: 0\n",
      "----------------------------------------------------------------\n",
      "Input size (MB): 0.00\n",
      "Forward/backward pass size (MB): 0.38\n",
      "Params size (MB): 0.05\n",
      "Estimated Total Size (MB): 0.44\n",
      "----------------------------------------------------------------\n"
     ]
    },
    {
     "name": "stderr",
     "output_type": "stream",
     "text": [
      "/usr/local/lib/python3.6/dist-packages/ipykernel_launcher.py:41: UserWarning: Implicit dimension choice for log_softmax has been deprecated. Change the call to include dim=X as an argument.\n"
     ]
    }
   ],
   "source": [
    "!pip install torchsummary\n",
    "from torchsummary import summary\n",
    "use_cuda = torch.cuda.is_available()\n",
    "device = torch.device(\"cuda\" if use_cuda else \"cpu\")\n",
    "model = Net().to(device)\n",
    "summary(model, input_size=(1, 28, 28))"
   ]
  },
  {
   "cell_type": "code",
   "execution_count": 4,
   "metadata": {
    "colab": {},
    "colab_type": "code",
    "executionInfo": {
     "elapsed": 7193,
     "status": "ok",
     "timestamp": 1597481127970,
     "user": {
      "displayName": "Sahal Kadankandy",
      "photoUrl": "https://lh6.googleusercontent.com/-O_5s3RAo54U/AAAAAAAAAAI/AAAAAAAAbcA/USBLsWSiYBg/s64/photo.jpg",
      "userId": "09339837886741046045"
     },
     "user_tz": -600
    },
    "id": "DqTWLaM5GHgH"
   },
   "outputs": [],
   "source": [
    "\n",
    "\n",
    "torch.manual_seed(1)\n",
    "batch_size = 64\n",
    "\n",
    "kwargs = {'num_workers': 1, 'pin_memory': True} if use_cuda else {}\n",
    "train_loader = torch.utils.data.DataLoader(\n",
    "    datasets.MNIST('../data', train=True, download=True,\n",
    "                    transform=transforms.Compose([\n",
    "                        transforms.ToTensor(),\n",
    "                        transforms.Normalize((0.1307,), (0.3081,))\n",
    "                    ])),\n",
    "    batch_size=batch_size, shuffle=True, **kwargs)\n",
    "test_loader = torch.utils.data.DataLoader(\n",
    "    datasets.MNIST('../data', train=False, transform=transforms.Compose([\n",
    "                        transforms.ToTensor(),\n",
    "                        transforms.Normalize((0.1307,), (0.3081,))\n",
    "                    ])),\n",
    "    batch_size=batch_size, shuffle=True, **kwargs)\n"
   ]
  },
  {
   "cell_type": "code",
   "execution_count": 5,
   "metadata": {
    "colab": {},
    "colab_type": "code",
    "executionInfo": {
     "elapsed": 7188,
     "status": "ok",
     "timestamp": 1597481127971,
     "user": {
      "displayName": "Sahal Kadankandy",
      "photoUrl": "https://lh6.googleusercontent.com/-O_5s3RAo54U/AAAAAAAAAAI/AAAAAAAAbcA/USBLsWSiYBg/s64/photo.jpg",
      "userId": "09339837886741046045"
     },
     "user_tz": -600
    },
    "id": "8fDefDhaFlwH"
   },
   "outputs": [],
   "source": [
    "from tqdm import tqdm\n",
    "def train(model, device, train_loader, optimizer, epoch):\n",
    "    model.train()\n",
    "    pbar = tqdm(train_loader)\n",
    "    for batch_idx, (data, target) in enumerate(pbar):\n",
    "        data, target = data.to(device), target.to(device)\n",
    "        optimizer.zero_grad()\n",
    "        output = model(data)\n",
    "        loss = F.nll_loss(output, target)\n",
    "        loss.backward()\n",
    "        optimizer.step()\n",
    "        pbar.set_description(desc= f'loss={loss.item()} batch_id={batch_idx}')\n",
    "\n",
    "\n",
    "def test(model, device, test_loader):\n",
    "    model.eval()\n",
    "    test_loss = 0\n",
    "    correct = 0\n",
    "    with torch.no_grad():\n",
    "        for data, target in test_loader:\n",
    "            data, target = data.to(device), target.to(device)\n",
    "            output = model(data)\n",
    "            test_loss += F.nll_loss(output, target, reduction='sum').item()  # sum up batch loss\n",
    "            pred = output.argmax(dim=1, keepdim=True)  # get the index of the max log-probability\n",
    "            correct += pred.eq(target.view_as(pred)).sum().item()\n",
    "\n",
    "    test_loss /= len(test_loader.dataset)\n",
    "\n",
    "    print('\\nTest set: Average loss: {:.4f}, Accuracy: {}/{} ({:.0f}%)\\n'.format(\n",
    "        test_loss, correct, len(test_loader.dataset),\n",
    "        100. * correct / len(test_loader.dataset)))"
   ]
  },
  {
   "cell_type": "code",
   "execution_count": 6,
   "metadata": {
    "colab": {
     "base_uri": "https://localhost:8080/",
     "height": 1000
    },
    "colab_type": "code",
    "executionInfo": {
     "elapsed": 659623,
     "status": "ok",
     "timestamp": 1597481780413,
     "user": {
      "displayName": "Sahal Kadankandy",
      "photoUrl": "https://lh6.googleusercontent.com/-O_5s3RAo54U/AAAAAAAAAAI/AAAAAAAAbcA/USBLsWSiYBg/s64/photo.jpg",
      "userId": "09339837886741046045"
     },
     "user_tz": -600
    },
    "id": "MMWbLWO6FuHb",
    "outputId": "64e822e3-0cbf-422f-dddb-fcd6dbb40695"
   },
   "outputs": [
    {
     "name": "stderr",
     "output_type": "stream",
     "text": [
      "  0%|          | 0/938 [00:00<?, ?it/s]/usr/local/lib/python3.6/dist-packages/ipykernel_launcher.py:41: UserWarning: Implicit dimension choice for log_softmax has been deprecated. Change the call to include dim=X as an argument.\n",
      "loss=0.17113591730594635 batch_id=937: 100%|██████████| 938/938 [00:30<00:00, 30.38it/s]\n",
      "  0%|          | 0/938 [00:00<?, ?it/s]"
     ]
    },
    {
     "name": "stdout",
     "output_type": "stream",
     "text": [
      "\n",
      "Test set: Average loss: 0.0425, Accuracy: 9863/10000 (99%)\n",
      "\n"
     ]
    },
    {
     "name": "stderr",
     "output_type": "stream",
     "text": [
      "loss=0.26128658652305603 batch_id=937: 100%|██████████| 938/938 [00:31<00:00, 29.99it/s]\n",
      "  0%|          | 0/938 [00:00<?, ?it/s]"
     ]
    },
    {
     "name": "stdout",
     "output_type": "stream",
     "text": [
      "\n",
      "Test set: Average loss: 0.0343, Accuracy: 9897/10000 (99%)\n",
      "\n"
     ]
    },
    {
     "name": "stderr",
     "output_type": "stream",
     "text": [
      "loss=0.0027435889933258295 batch_id=937: 100%|██████████| 938/938 [00:31<00:00, 30.00it/s]\n",
      "  0%|          | 0/938 [00:00<?, ?it/s]"
     ]
    },
    {
     "name": "stdout",
     "output_type": "stream",
     "text": [
      "\n",
      "Test set: Average loss: 0.0290, Accuracy: 9914/10000 (99%)\n",
      "\n"
     ]
    },
    {
     "name": "stderr",
     "output_type": "stream",
     "text": [
      "loss=0.10512193292379379 batch_id=937: 100%|██████████| 938/938 [00:31<00:00, 30.18it/s]\n",
      "  0%|          | 0/938 [00:00<?, ?it/s]"
     ]
    },
    {
     "name": "stdout",
     "output_type": "stream",
     "text": [
      "\n",
      "Test set: Average loss: 0.0266, Accuracy: 9907/10000 (99%)\n",
      "\n"
     ]
    },
    {
     "name": "stderr",
     "output_type": "stream",
     "text": [
      "loss=0.008480602875351906 batch_id=937: 100%|██████████| 938/938 [00:31<00:00, 30.10it/s]\n",
      "  0%|          | 0/938 [00:00<?, ?it/s]"
     ]
    },
    {
     "name": "stdout",
     "output_type": "stream",
     "text": [
      "\n",
      "Test set: Average loss: 0.0192, Accuracy: 9933/10000 (99%)\n",
      "\n"
     ]
    },
    {
     "name": "stderr",
     "output_type": "stream",
     "text": [
      "loss=0.006847301032394171 batch_id=937: 100%|██████████| 938/938 [00:31<00:00, 29.97it/s]\n",
      "  0%|          | 0/938 [00:00<?, ?it/s]"
     ]
    },
    {
     "name": "stdout",
     "output_type": "stream",
     "text": [
      "\n",
      "Test set: Average loss: 0.0223, Accuracy: 9927/10000 (99%)\n",
      "\n"
     ]
    },
    {
     "name": "stderr",
     "output_type": "stream",
     "text": [
      "loss=0.022733809426426888 batch_id=937: 100%|██████████| 938/938 [00:30<00:00, 30.37it/s]\n",
      "  0%|          | 0/938 [00:00<?, ?it/s]"
     ]
    },
    {
     "name": "stdout",
     "output_type": "stream",
     "text": [
      "\n",
      "Test set: Average loss: 0.0192, Accuracy: 9941/10000 (99%)\n",
      "\n"
     ]
    },
    {
     "name": "stderr",
     "output_type": "stream",
     "text": [
      "loss=0.002402272541075945 batch_id=937: 100%|██████████| 938/938 [00:30<00:00, 30.53it/s]\n",
      "  0%|          | 0/938 [00:00<?, ?it/s]"
     ]
    },
    {
     "name": "stdout",
     "output_type": "stream",
     "text": [
      "\n",
      "Test set: Average loss: 0.0210, Accuracy: 9927/10000 (99%)\n",
      "\n"
     ]
    },
    {
     "name": "stderr",
     "output_type": "stream",
     "text": [
      "loss=0.0028414176777005196 batch_id=937: 100%|██████████| 938/938 [00:30<00:00, 30.37it/s]\n",
      "  0%|          | 0/938 [00:00<?, ?it/s]"
     ]
    },
    {
     "name": "stdout",
     "output_type": "stream",
     "text": [
      "\n",
      "Test set: Average loss: 0.0203, Accuracy: 9935/10000 (99%)\n",
      "\n"
     ]
    },
    {
     "name": "stderr",
     "output_type": "stream",
     "text": [
      "loss=0.07854002714157104 batch_id=937: 100%|██████████| 938/938 [00:31<00:00, 30.06it/s]\n",
      "  0%|          | 0/938 [00:00<?, ?it/s]"
     ]
    },
    {
     "name": "stdout",
     "output_type": "stream",
     "text": [
      "\n",
      "Test set: Average loss: 0.0198, Accuracy: 9943/10000 (99%)\n",
      "\n"
     ]
    },
    {
     "name": "stderr",
     "output_type": "stream",
     "text": [
      "loss=0.15413188934326172 batch_id=937: 100%|██████████| 938/938 [00:30<00:00, 30.32it/s]\n",
      "  0%|          | 0/938 [00:00<?, ?it/s]"
     ]
    },
    {
     "name": "stdout",
     "output_type": "stream",
     "text": [
      "\n",
      "Test set: Average loss: 0.0186, Accuracy: 9941/10000 (99%)\n",
      "\n"
     ]
    },
    {
     "name": "stderr",
     "output_type": "stream",
     "text": [
      "loss=0.014199351891875267 batch_id=937: 100%|██████████| 938/938 [00:31<00:00, 30.21it/s]\n",
      "  0%|          | 0/938 [00:00<?, ?it/s]"
     ]
    },
    {
     "name": "stdout",
     "output_type": "stream",
     "text": [
      "\n",
      "Test set: Average loss: 0.0167, Accuracy: 9948/10000 (99%)\n",
      "\n"
     ]
    },
    {
     "name": "stderr",
     "output_type": "stream",
     "text": [
      "loss=0.001869682571850717 batch_id=937: 100%|██████████| 938/938 [00:30<00:00, 30.43it/s]\n",
      "  0%|          | 0/938 [00:00<?, ?it/s]"
     ]
    },
    {
     "name": "stdout",
     "output_type": "stream",
     "text": [
      "\n",
      "Test set: Average loss: 0.0166, Accuracy: 9943/10000 (99%)\n",
      "\n"
     ]
    },
    {
     "name": "stderr",
     "output_type": "stream",
     "text": [
      "loss=0.10597316920757294 batch_id=937: 100%|██████████| 938/938 [00:30<00:00, 30.42it/s]\n",
      "  0%|          | 0/938 [00:00<?, ?it/s]"
     ]
    },
    {
     "name": "stdout",
     "output_type": "stream",
     "text": [
      "\n",
      "Test set: Average loss: 0.0159, Accuracy: 9947/10000 (99%)\n",
      "\n"
     ]
    },
    {
     "name": "stderr",
     "output_type": "stream",
     "text": [
      "loss=0.00029773986898362637 batch_id=937: 100%|██████████| 938/938 [00:30<00:00, 30.57it/s]\n",
      "  0%|          | 0/938 [00:00<?, ?it/s]"
     ]
    },
    {
     "name": "stdout",
     "output_type": "stream",
     "text": [
      "\n",
      "Test set: Average loss: 0.0186, Accuracy: 9938/10000 (99%)\n",
      "\n"
     ]
    },
    {
     "name": "stderr",
     "output_type": "stream",
     "text": [
      "loss=0.11304504424333572 batch_id=937: 100%|██████████| 938/938 [00:30<00:00, 30.31it/s]\n",
      "  0%|          | 0/938 [00:00<?, ?it/s]"
     ]
    },
    {
     "name": "stdout",
     "output_type": "stream",
     "text": [
      "\n",
      "Test set: Average loss: 0.0168, Accuracy: 9948/10000 (99%)\n",
      "\n"
     ]
    },
    {
     "name": "stderr",
     "output_type": "stream",
     "text": [
      "loss=0.011847879737615585 batch_id=937: 100%|██████████| 938/938 [00:30<00:00, 30.50it/s]\n",
      "  0%|          | 0/938 [00:00<?, ?it/s]"
     ]
    },
    {
     "name": "stdout",
     "output_type": "stream",
     "text": [
      "\n",
      "Test set: Average loss: 0.0154, Accuracy: 9949/10000 (99%)\n",
      "\n"
     ]
    },
    {
     "name": "stderr",
     "output_type": "stream",
     "text": [
      "loss=0.005085143726319075 batch_id=937: 100%|██████████| 938/938 [00:30<00:00, 30.34it/s]\n",
      "  0%|          | 0/938 [00:00<?, ?it/s]"
     ]
    },
    {
     "name": "stdout",
     "output_type": "stream",
     "text": [
      "\n",
      "Test set: Average loss: 0.0168, Accuracy: 9941/10000 (99%)\n",
      "\n"
     ]
    },
    {
     "name": "stderr",
     "output_type": "stream",
     "text": [
      "loss=0.004793298430740833 batch_id=937: 100%|██████████| 938/938 [00:30<00:00, 30.34it/s]\n"
     ]
    },
    {
     "name": "stdout",
     "output_type": "stream",
     "text": [
      "\n",
      "Test set: Average loss: 0.0178, Accuracy: 9944/10000 (99%)\n",
      "\n"
     ]
    }
   ],
   "source": [
    "\n",
    "model = Net().to(device)\n",
    "optimizer = optim.SGD(model.parameters(), lr=0.01, momentum=0.9)\n",
    "\n",
    "for epoch in range(1, 20):\n",
    "    train(model, device, train_loader, optimizer, epoch)\n",
    "    test(model, device, test_loader)"
   ]
  },
  {
   "cell_type": "code",
   "execution_count": 6,
   "metadata": {
    "colab": {},
    "colab_type": "code",
    "executionInfo": {
     "elapsed": 659621,
     "status": "ok",
     "timestamp": 1597481780418,
     "user": {
      "displayName": "Sahal Kadankandy",
      "photoUrl": "https://lh6.googleusercontent.com/-O_5s3RAo54U/AAAAAAAAAAI/AAAAAAAAbcA/USBLsWSiYBg/s64/photo.jpg",
      "userId": "09339837886741046045"
     },
     "user_tz": -600
    },
    "id": "So5uk4EkHW6R"
   },
   "outputs": [],
   "source": []
  }
 ],
 "metadata": {
  "accelerator": "GPU",
  "colab": {
   "collapsed_sections": [],
   "name": "EVA4 - Session 2_T10.ipynb",
   "provenance": [
    {
     "file_id": "1WxLIF-nfwq_c2jingrLraMyNI9aBDknN",
     "timestamp": 1597479255732
    },
    {
     "file_id": "1muLhAE1m4gQBj1ZDqXJ4nFu7a6l2v4BP",
     "timestamp": 1597472005161
    },
    {
     "file_id": "1uJZvJdi5VprOQHROtJIHy0mnY2afjNlx",
     "timestamp": 1597469810575
    }
   ]
  },
  "kernelspec": {
   "display_name": "Python 3",
   "language": "python",
   "name": "python3"
  },
  "language_info": {
   "codemirror_mode": {
    "name": "ipython",
    "version": 3
   },
   "file_extension": ".py",
   "mimetype": "text/x-python",
   "name": "python",
   "nbconvert_exporter": "python",
   "pygments_lexer": "ipython3",
   "version": "3.7.3"
  }
 },
 "nbformat": 4,
 "nbformat_minor": 1
}
